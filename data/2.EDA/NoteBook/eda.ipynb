{
 "cells": [
  {
   "cell_type": "code",
   "execution_count": 16,
   "metadata": {},
   "outputs": [],
   "source": [
    "import pandas as pd\n",
    "import numpy as np \n",
    "from pandas_profiling import ProfileReport\n",
    "import matplotlib.pyplot as plt\n",
    "import seaborn as sns\n"
   ]
  },
  {
   "cell_type": "code",
   "execution_count": 19,
   "metadata": {},
   "outputs": [
    {
     "name": "stdout",
     "output_type": "stream",
     "text": [
      "reading time:  5.658005237579346 sec\n"
     ]
    }
   ],
   "source": [
    "import time\n",
    "start = time.time()\n",
    "closed_deals=pd.read_csv(\"Datasets\\olist_closed_deals_dataset.csv\")\n",
    "customers=pd.read_csv(\"Datasets\\olist_customers_dataset.csv\")\n",
    "geolocation=pd.read_csv(\"Datasets\\olist_geolocation_dataset.csv\")\n",
    "marketing_ql=pd.read_csv(\"Datasets\\olist_marketing_qualified_leads_dataset.csv\")\n",
    "order_items=pd.read_csv(\"Datasets\\olist_order_items_dataset.csv\")\n",
    "order_payments=pd.read_csv(\"Datasets\\olist_order_payments_dataset.csv\")\n",
    "order_reviews=pd.read_csv(\"Datasets\\olist_order_reviews_dataset.csv\")\n",
    "orders=pd.read_csv(\"Datasets\\olist_orders_dataset.csv\")\n",
    "products=pd.read_csv(\"Datasets\\olist_products_dataset.csv\")\n",
    "sellers=pd.read_csv(\"Datasets\\olist_sellers_dataset.csv\")\n",
    "product_category_nt=pd.read_csv(\"Datasets\\product_category_name_translation.csv\")\n",
    "end = time.time()\n",
    "print(\"reading time: \",(end-start),\"sec\")"
   ]
  },
  {
   "cell_type": "code",
   "execution_count": 4,
   "metadata": {},
   "outputs": [
    {
     "data": {
      "text/html": [
       "<div>\n",
       "<style scoped>\n",
       "    .dataframe tbody tr th:only-of-type {\n",
       "        vertical-align: middle;\n",
       "    }\n",
       "\n",
       "    .dataframe tbody tr th {\n",
       "        vertical-align: top;\n",
       "    }\n",
       "\n",
       "    .dataframe thead th {\n",
       "        text-align: right;\n",
       "    }\n",
       "</style>\n",
       "<table border=\"1\" class=\"dataframe\">\n",
       "  <thead>\n",
       "    <tr style=\"text-align: right;\">\n",
       "      <th></th>\n",
       "      <th>mql_id</th>\n",
       "      <th>seller_id</th>\n",
       "      <th>sdr_id</th>\n",
       "      <th>sr_id</th>\n",
       "      <th>won_date</th>\n",
       "      <th>business_segment</th>\n",
       "      <th>lead_type</th>\n",
       "      <th>lead_behaviour_profile</th>\n",
       "      <th>has_company</th>\n",
       "      <th>has_gtin</th>\n",
       "      <th>average_stock</th>\n",
       "      <th>business_type</th>\n",
       "      <th>declared_product_catalog_size</th>\n",
       "      <th>declared_monthly_revenue</th>\n",
       "    </tr>\n",
       "  </thead>\n",
       "  <tbody>\n",
       "    <tr>\n",
       "      <th>0</th>\n",
       "      <td>5420aad7fec3549a85876ba1c529bd84</td>\n",
       "      <td>2c43fb513632d29b3b58df74816f1b06</td>\n",
       "      <td>a8387c01a09e99ce014107505b92388c</td>\n",
       "      <td>4ef15afb4b2723d8f3d81e51ec7afefe</td>\n",
       "      <td>2018-02-26 19:58:54</td>\n",
       "      <td>pet</td>\n",
       "      <td>online_medium</td>\n",
       "      <td>cat</td>\n",
       "      <td>NaN</td>\n",
       "      <td>NaN</td>\n",
       "      <td>NaN</td>\n",
       "      <td>reseller</td>\n",
       "      <td>NaN</td>\n",
       "      <td>0.0</td>\n",
       "    </tr>\n",
       "    <tr>\n",
       "      <th>1</th>\n",
       "      <td>a555fb36b9368110ede0f043dfc3b9a0</td>\n",
       "      <td>bbb7d7893a450660432ea6652310ebb7</td>\n",
       "      <td>09285259593c61296eef10c734121d5b</td>\n",
       "      <td>d3d1e91a157ea7f90548eef82f1955e3</td>\n",
       "      <td>2018-05-08 20:17:59</td>\n",
       "      <td>car_accessories</td>\n",
       "      <td>industry</td>\n",
       "      <td>eagle</td>\n",
       "      <td>NaN</td>\n",
       "      <td>NaN</td>\n",
       "      <td>NaN</td>\n",
       "      <td>reseller</td>\n",
       "      <td>NaN</td>\n",
       "      <td>0.0</td>\n",
       "    </tr>\n",
       "    <tr>\n",
       "      <th>2</th>\n",
       "      <td>327174d3648a2d047e8940d7d15204ca</td>\n",
       "      <td>612170e34b97004b3ba37eae81836b4c</td>\n",
       "      <td>b90f87164b5f8c2cfa5c8572834dbe3f</td>\n",
       "      <td>6565aa9ce3178a5caf6171827af3a9ba</td>\n",
       "      <td>2018-06-05 17:27:23</td>\n",
       "      <td>home_appliances</td>\n",
       "      <td>online_big</td>\n",
       "      <td>cat</td>\n",
       "      <td>NaN</td>\n",
       "      <td>NaN</td>\n",
       "      <td>NaN</td>\n",
       "      <td>reseller</td>\n",
       "      <td>NaN</td>\n",
       "      <td>0.0</td>\n",
       "    </tr>\n",
       "    <tr>\n",
       "      <th>3</th>\n",
       "      <td>f5fee8f7da74f4887f5bcae2bafb6dd6</td>\n",
       "      <td>21e1781e36faf92725dde4730a88ca0f</td>\n",
       "      <td>56bf83c4bb35763a51c2baab501b4c67</td>\n",
       "      <td>d3d1e91a157ea7f90548eef82f1955e3</td>\n",
       "      <td>2018-01-17 13:51:03</td>\n",
       "      <td>food_drink</td>\n",
       "      <td>online_small</td>\n",
       "      <td>NaN</td>\n",
       "      <td>NaN</td>\n",
       "      <td>NaN</td>\n",
       "      <td>NaN</td>\n",
       "      <td>reseller</td>\n",
       "      <td>NaN</td>\n",
       "      <td>0.0</td>\n",
       "    </tr>\n",
       "    <tr>\n",
       "      <th>4</th>\n",
       "      <td>ffe640179b554e295c167a2f6be528e0</td>\n",
       "      <td>ed8cb7b190ceb6067227478e48cf8dde</td>\n",
       "      <td>4b339f9567d060bcea4f5136b9f5949e</td>\n",
       "      <td>d3d1e91a157ea7f90548eef82f1955e3</td>\n",
       "      <td>2018-07-03 20:17:45</td>\n",
       "      <td>home_appliances</td>\n",
       "      <td>industry</td>\n",
       "      <td>wolf</td>\n",
       "      <td>NaN</td>\n",
       "      <td>NaN</td>\n",
       "      <td>NaN</td>\n",
       "      <td>manufacturer</td>\n",
       "      <td>NaN</td>\n",
       "      <td>0.0</td>\n",
       "    </tr>\n",
       "    <tr>\n",
       "      <th>...</th>\n",
       "      <td>...</td>\n",
       "      <td>...</td>\n",
       "      <td>...</td>\n",
       "      <td>...</td>\n",
       "      <td>...</td>\n",
       "      <td>...</td>\n",
       "      <td>...</td>\n",
       "      <td>...</td>\n",
       "      <td>...</td>\n",
       "      <td>...</td>\n",
       "      <td>...</td>\n",
       "      <td>...</td>\n",
       "      <td>...</td>\n",
       "      <td>...</td>\n",
       "    </tr>\n",
       "    <tr>\n",
       "      <th>837</th>\n",
       "      <td>df9a2abe2ad3f2d8758b675ac8331ecf</td>\n",
       "      <td>bfcc27719640628da877db48b672b169</td>\n",
       "      <td>45749fb708130f78d0db07d8d80f030b</td>\n",
       "      <td>a8387c01a09e99ce014107505b92388c</td>\n",
       "      <td>2018-08-01 20:22:31</td>\n",
       "      <td>home_decor</td>\n",
       "      <td>offline</td>\n",
       "      <td>cat</td>\n",
       "      <td>NaN</td>\n",
       "      <td>NaN</td>\n",
       "      <td>NaN</td>\n",
       "      <td>reseller</td>\n",
       "      <td>NaN</td>\n",
       "      <td>0.0</td>\n",
       "    </tr>\n",
       "    <tr>\n",
       "      <th>838</th>\n",
       "      <td>8723201570415eb23b4f095d8c20a27c</td>\n",
       "      <td>4a82eab98441aeb64566e2776c1fb2b6</td>\n",
       "      <td>370c9f455f93a9a96cbe9bea48e70033</td>\n",
       "      <td>4b339f9567d060bcea4f5136b9f5949e</td>\n",
       "      <td>2018-09-27 18:58:41</td>\n",
       "      <td>construction_tools_house_garden</td>\n",
       "      <td>online_big</td>\n",
       "      <td>wolf</td>\n",
       "      <td>NaN</td>\n",
       "      <td>NaN</td>\n",
       "      <td>NaN</td>\n",
       "      <td>reseller</td>\n",
       "      <td>132.0</td>\n",
       "      <td>200000.0</td>\n",
       "    </tr>\n",
       "    <tr>\n",
       "      <th>839</th>\n",
       "      <td>2e57665b8faf05c967a801eb5aedfa0a</td>\n",
       "      <td>55031883943971ca22db6894574cfe2c</td>\n",
       "      <td>370c9f455f93a9a96cbe9bea48e70033</td>\n",
       "      <td>a8387c01a09e99ce014107505b92388c</td>\n",
       "      <td>2018-06-06 20:15:26</td>\n",
       "      <td>computers</td>\n",
       "      <td>online_medium</td>\n",
       "      <td>wolf</td>\n",
       "      <td>NaN</td>\n",
       "      <td>NaN</td>\n",
       "      <td>NaN</td>\n",
       "      <td>reseller</td>\n",
       "      <td>NaN</td>\n",
       "      <td>0.0</td>\n",
       "    </tr>\n",
       "    <tr>\n",
       "      <th>840</th>\n",
       "      <td>40955be51cc85c5a5a6cdd12b19e9f10</td>\n",
       "      <td>c0e933c238e41f0cd459d6025ee9b364</td>\n",
       "      <td>068066e24f0c643eb1d089c7dd20cd73</td>\n",
       "      <td>d3d1e91a157ea7f90548eef82f1955e3</td>\n",
       "      <td>2018-03-06 15:52:23</td>\n",
       "      <td>pet</td>\n",
       "      <td>online_beginner</td>\n",
       "      <td>cat</td>\n",
       "      <td>NaN</td>\n",
       "      <td>NaN</td>\n",
       "      <td>NaN</td>\n",
       "      <td>reseller</td>\n",
       "      <td>NaN</td>\n",
       "      <td>0.0</td>\n",
       "    </tr>\n",
       "    <tr>\n",
       "      <th>841</th>\n",
       "      <td>8a6492305a5fbcdcdd1a7f5a90764c07</td>\n",
       "      <td>1bba9c94eb5c4e82fba9f7286fe81025</td>\n",
       "      <td>56bf83c4bb35763a51c2baab501b4c67</td>\n",
       "      <td>de63de0d10a6012430098db33c679b0b</td>\n",
       "      <td>2018-05-02 13:31:32</td>\n",
       "      <td>household_utilities</td>\n",
       "      <td>industry</td>\n",
       "      <td>eagle</td>\n",
       "      <td>NaN</td>\n",
       "      <td>NaN</td>\n",
       "      <td>NaN</td>\n",
       "      <td>manufacturer</td>\n",
       "      <td>NaN</td>\n",
       "      <td>0.0</td>\n",
       "    </tr>\n",
       "  </tbody>\n",
       "</table>\n",
       "<p>842 rows × 14 columns</p>\n",
       "</div>"
      ],
      "text/plain": [
       "                               mql_id                         seller_id  \\\n",
       "0    5420aad7fec3549a85876ba1c529bd84  2c43fb513632d29b3b58df74816f1b06   \n",
       "1    a555fb36b9368110ede0f043dfc3b9a0  bbb7d7893a450660432ea6652310ebb7   \n",
       "2    327174d3648a2d047e8940d7d15204ca  612170e34b97004b3ba37eae81836b4c   \n",
       "3    f5fee8f7da74f4887f5bcae2bafb6dd6  21e1781e36faf92725dde4730a88ca0f   \n",
       "4    ffe640179b554e295c167a2f6be528e0  ed8cb7b190ceb6067227478e48cf8dde   \n",
       "..                                ...                               ...   \n",
       "837  df9a2abe2ad3f2d8758b675ac8331ecf  bfcc27719640628da877db48b672b169   \n",
       "838  8723201570415eb23b4f095d8c20a27c  4a82eab98441aeb64566e2776c1fb2b6   \n",
       "839  2e57665b8faf05c967a801eb5aedfa0a  55031883943971ca22db6894574cfe2c   \n",
       "840  40955be51cc85c5a5a6cdd12b19e9f10  c0e933c238e41f0cd459d6025ee9b364   \n",
       "841  8a6492305a5fbcdcdd1a7f5a90764c07  1bba9c94eb5c4e82fba9f7286fe81025   \n",
       "\n",
       "                               sdr_id                             sr_id  \\\n",
       "0    a8387c01a09e99ce014107505b92388c  4ef15afb4b2723d8f3d81e51ec7afefe   \n",
       "1    09285259593c61296eef10c734121d5b  d3d1e91a157ea7f90548eef82f1955e3   \n",
       "2    b90f87164b5f8c2cfa5c8572834dbe3f  6565aa9ce3178a5caf6171827af3a9ba   \n",
       "3    56bf83c4bb35763a51c2baab501b4c67  d3d1e91a157ea7f90548eef82f1955e3   \n",
       "4    4b339f9567d060bcea4f5136b9f5949e  d3d1e91a157ea7f90548eef82f1955e3   \n",
       "..                                ...                               ...   \n",
       "837  45749fb708130f78d0db07d8d80f030b  a8387c01a09e99ce014107505b92388c   \n",
       "838  370c9f455f93a9a96cbe9bea48e70033  4b339f9567d060bcea4f5136b9f5949e   \n",
       "839  370c9f455f93a9a96cbe9bea48e70033  a8387c01a09e99ce014107505b92388c   \n",
       "840  068066e24f0c643eb1d089c7dd20cd73  d3d1e91a157ea7f90548eef82f1955e3   \n",
       "841  56bf83c4bb35763a51c2baab501b4c67  de63de0d10a6012430098db33c679b0b   \n",
       "\n",
       "                won_date                 business_segment        lead_type  \\\n",
       "0    2018-02-26 19:58:54                              pet    online_medium   \n",
       "1    2018-05-08 20:17:59                  car_accessories         industry   \n",
       "2    2018-06-05 17:27:23                  home_appliances       online_big   \n",
       "3    2018-01-17 13:51:03                       food_drink     online_small   \n",
       "4    2018-07-03 20:17:45                  home_appliances         industry   \n",
       "..                   ...                              ...              ...   \n",
       "837  2018-08-01 20:22:31                       home_decor          offline   \n",
       "838  2018-09-27 18:58:41  construction_tools_house_garden       online_big   \n",
       "839  2018-06-06 20:15:26                        computers    online_medium   \n",
       "840  2018-03-06 15:52:23                              pet  online_beginner   \n",
       "841  2018-05-02 13:31:32              household_utilities         industry   \n",
       "\n",
       "    lead_behaviour_profile has_company has_gtin average_stock business_type  \\\n",
       "0                      cat         NaN      NaN           NaN      reseller   \n",
       "1                    eagle         NaN      NaN           NaN      reseller   \n",
       "2                      cat         NaN      NaN           NaN      reseller   \n",
       "3                      NaN         NaN      NaN           NaN      reseller   \n",
       "4                     wolf         NaN      NaN           NaN  manufacturer   \n",
       "..                     ...         ...      ...           ...           ...   \n",
       "837                    cat         NaN      NaN           NaN      reseller   \n",
       "838                   wolf         NaN      NaN           NaN      reseller   \n",
       "839                   wolf         NaN      NaN           NaN      reseller   \n",
       "840                    cat         NaN      NaN           NaN      reseller   \n",
       "841                  eagle         NaN      NaN           NaN  manufacturer   \n",
       "\n",
       "     declared_product_catalog_size  declared_monthly_revenue  \n",
       "0                              NaN                       0.0  \n",
       "1                              NaN                       0.0  \n",
       "2                              NaN                       0.0  \n",
       "3                              NaN                       0.0  \n",
       "4                              NaN                       0.0  \n",
       "..                             ...                       ...  \n",
       "837                            NaN                       0.0  \n",
       "838                          132.0                  200000.0  \n",
       "839                            NaN                       0.0  \n",
       "840                            NaN                       0.0  \n",
       "841                            NaN                       0.0  \n",
       "\n",
       "[842 rows x 14 columns]"
      ]
     },
     "execution_count": 4,
     "metadata": {},
     "output_type": "execute_result"
    }
   ],
   "source": [
    "closed_deals"
   ]
  },
  {
   "cell_type": "code",
   "execution_count": 5,
   "metadata": {},
   "outputs": [
    {
     "data": {
      "application/vnd.jupyter.widget-view+json": {
       "model_id": "317a52b782944e8b9b82e923add7bb24",
       "version_major": 2,
       "version_minor": 0
      },
      "text/plain": [
       "Summarize dataset:   0%|          | 0/5 [00:00<?, ?it/s]"
      ]
     },
     "metadata": {},
     "output_type": "display_data"
    },
    {
     "data": {
      "application/vnd.jupyter.widget-view+json": {
       "model_id": "ef8e6aa0b18a4c33996f6ad71069bde3",
       "version_major": 2,
       "version_minor": 0
      },
      "text/plain": [
       "Generate report structure:   0%|          | 0/1 [00:00<?, ?it/s]"
      ]
     },
     "metadata": {},
     "output_type": "display_data"
    },
    {
     "data": {
      "application/vnd.jupyter.widget-view+json": {
       "model_id": "75bebd0bd32544dc9a38717037913bdd",
       "version_major": 2,
       "version_minor": 0
      },
      "text/plain": [
       "Render HTML:   0%|          | 0/1 [00:00<?, ?it/s]"
      ]
     },
     "metadata": {},
     "output_type": "display_data"
    },
    {
     "data": {
      "application/vnd.jupyter.widget-view+json": {
       "model_id": "a5361bfccbf34cc7a05864904f29ea33",
       "version_major": 2,
       "version_minor": 0
      },
      "text/plain": [
       "Export report to file:   0%|          | 0/1 [00:00<?, ?it/s]"
      ]
     },
     "metadata": {},
     "output_type": "display_data"
    }
   ],
   "source": [
    "prof_closed_deals = ProfileReport(closed_deals)\n",
    "prof_closed_deals.to_file(output_file='Profile_reports\\closed_deals.html')"
   ]
  },
  {
   "cell_type": "code",
   "execution_count": 6,
   "metadata": {},
   "outputs": [
    {
     "data": {
      "application/vnd.jupyter.widget-view+json": {
       "model_id": "0f271f73c98b493dab7e85485db07e53",
       "version_major": 2,
       "version_minor": 0
      },
      "text/plain": [
       "Summarize dataset:   0%|          | 0/5 [00:00<?, ?it/s]"
      ]
     },
     "metadata": {},
     "output_type": "display_data"
    },
    {
     "data": {
      "application/vnd.jupyter.widget-view+json": {
       "model_id": "abba6d68cc2745f599ea0ce2b79591b6",
       "version_major": 2,
       "version_minor": 0
      },
      "text/plain": [
       "Generate report structure:   0%|          | 0/1 [00:00<?, ?it/s]"
      ]
     },
     "metadata": {},
     "output_type": "display_data"
    },
    {
     "data": {
      "application/vnd.jupyter.widget-view+json": {
       "model_id": "a5e1ed3b033b47f08640ce805f749889",
       "version_major": 2,
       "version_minor": 0
      },
      "text/plain": [
       "Render HTML:   0%|          | 0/1 [00:00<?, ?it/s]"
      ]
     },
     "metadata": {},
     "output_type": "display_data"
    },
    {
     "data": {
      "application/vnd.jupyter.widget-view+json": {
       "model_id": "ea7914059a3c4c34a36123b7ecb5efb3",
       "version_major": 2,
       "version_minor": 0
      },
      "text/plain": [
       "Export report to file:   0%|          | 0/1 [00:00<?, ?it/s]"
      ]
     },
     "metadata": {},
     "output_type": "display_data"
    }
   ],
   "source": [
    "prof_customers = ProfileReport(customers)\n",
    "prof_customers.to_file(output_file='Profile_reports\\customers.html')"
   ]
  },
  {
   "cell_type": "code",
   "execution_count": 7,
   "metadata": {},
   "outputs": [
    {
     "data": {
      "application/vnd.jupyter.widget-view+json": {
       "model_id": "b4434264f74b422ab29915379065c2bb",
       "version_major": 2,
       "version_minor": 0
      },
      "text/plain": [
       "Summarize dataset:   0%|          | 0/5 [00:00<?, ?it/s]"
      ]
     },
     "metadata": {},
     "output_type": "display_data"
    },
    {
     "data": {
      "application/vnd.jupyter.widget-view+json": {
       "model_id": "34583e1f14f34d7b821354f720a51128",
       "version_major": 2,
       "version_minor": 0
      },
      "text/plain": [
       "Generate report structure:   0%|          | 0/1 [00:00<?, ?it/s]"
      ]
     },
     "metadata": {},
     "output_type": "display_data"
    },
    {
     "data": {
      "application/vnd.jupyter.widget-view+json": {
       "model_id": "669fc9d411f74cdf848f6a350e316335",
       "version_major": 2,
       "version_minor": 0
      },
      "text/plain": [
       "Render HTML:   0%|          | 0/1 [00:00<?, ?it/s]"
      ]
     },
     "metadata": {},
     "output_type": "display_data"
    },
    {
     "data": {
      "application/vnd.jupyter.widget-view+json": {
       "model_id": "4ce16cf073d1470da143695880538a00",
       "version_major": 2,
       "version_minor": 0
      },
      "text/plain": [
       "Export report to file:   0%|          | 0/1 [00:00<?, ?it/s]"
      ]
     },
     "metadata": {},
     "output_type": "display_data"
    }
   ],
   "source": [
    "prof_geolocation = ProfileReport(geolocation)\n",
    "prof_geolocation.to_file(output_file='Profile_reports\\geolocation.html')"
   ]
  },
  {
   "cell_type": "code",
   "execution_count": 8,
   "metadata": {},
   "outputs": [
    {
     "data": {
      "application/vnd.jupyter.widget-view+json": {
       "model_id": "187fecb5bf9f4c079cd0fa7301378d10",
       "version_major": 2,
       "version_minor": 0
      },
      "text/plain": [
       "Summarize dataset:   0%|          | 0/5 [00:00<?, ?it/s]"
      ]
     },
     "metadata": {},
     "output_type": "display_data"
    },
    {
     "data": {
      "application/vnd.jupyter.widget-view+json": {
       "model_id": "bcaac4557a5c4cd0866910561ddb7d7f",
       "version_major": 2,
       "version_minor": 0
      },
      "text/plain": [
       "Generate report structure:   0%|          | 0/1 [00:00<?, ?it/s]"
      ]
     },
     "metadata": {},
     "output_type": "display_data"
    },
    {
     "data": {
      "application/vnd.jupyter.widget-view+json": {
       "model_id": "1b252728f7004fb780a522962302dc20",
       "version_major": 2,
       "version_minor": 0
      },
      "text/plain": [
       "Render HTML:   0%|          | 0/1 [00:00<?, ?it/s]"
      ]
     },
     "metadata": {},
     "output_type": "display_data"
    },
    {
     "data": {
      "application/vnd.jupyter.widget-view+json": {
       "model_id": "a39c7900ba4b463fbad1cbb4e39cf06b",
       "version_major": 2,
       "version_minor": 0
      },
      "text/plain": [
       "Export report to file:   0%|          | 0/1 [00:00<?, ?it/s]"
      ]
     },
     "metadata": {},
     "output_type": "display_data"
    }
   ],
   "source": [
    "prof_marketing_ql = ProfileReport(marketing_ql)\n",
    "prof_marketing_ql.to_file(output_file='Profile_reports\\marketing_ql.html')"
   ]
  },
  {
   "cell_type": "code",
   "execution_count": 9,
   "metadata": {},
   "outputs": [
    {
     "data": {
      "application/vnd.jupyter.widget-view+json": {
       "model_id": "8eeefa52cef04f36ba40c6e94cecf72f",
       "version_major": 2,
       "version_minor": 0
      },
      "text/plain": [
       "Summarize dataset:   0%|          | 0/5 [00:00<?, ?it/s]"
      ]
     },
     "metadata": {},
     "output_type": "display_data"
    },
    {
     "data": {
      "application/vnd.jupyter.widget-view+json": {
       "model_id": "05b152cd8ff64754a22ae91ddc5de576",
       "version_major": 2,
       "version_minor": 0
      },
      "text/plain": [
       "Generate report structure:   0%|          | 0/1 [00:00<?, ?it/s]"
      ]
     },
     "metadata": {},
     "output_type": "display_data"
    },
    {
     "data": {
      "application/vnd.jupyter.widget-view+json": {
       "model_id": "b3bf2b0b78e34021b1e3883758cb20b6",
       "version_major": 2,
       "version_minor": 0
      },
      "text/plain": [
       "Render HTML:   0%|          | 0/1 [00:00<?, ?it/s]"
      ]
     },
     "metadata": {},
     "output_type": "display_data"
    },
    {
     "data": {
      "application/vnd.jupyter.widget-view+json": {
       "model_id": "4859e5ca4219467ab3605279278e3e79",
       "version_major": 2,
       "version_minor": 0
      },
      "text/plain": [
       "Export report to file:   0%|          | 0/1 [00:00<?, ?it/s]"
      ]
     },
     "metadata": {},
     "output_type": "display_data"
    }
   ],
   "source": [
    "prof_order_items = ProfileReport(order_items)\n",
    "prof_order_items.to_file(output_file='Profile_reports\\order_items.html')"
   ]
  },
  {
   "cell_type": "code",
   "execution_count": 10,
   "metadata": {},
   "outputs": [
    {
     "data": {
      "application/vnd.jupyter.widget-view+json": {
       "model_id": "30e1fe38cf264063ad5fea8f2c8ca002",
       "version_major": 2,
       "version_minor": 0
      },
      "text/plain": [
       "Summarize dataset:   0%|          | 0/5 [00:00<?, ?it/s]"
      ]
     },
     "metadata": {},
     "output_type": "display_data"
    },
    {
     "name": "stderr",
     "output_type": "stream",
     "text": [
      "C:\\Users\\PCMYM\\AppData\\Roaming\\Python\\Python310\\site-packages\\scipy\\stats\\_stats_py.py:4868: RuntimeWarning: overflow encountered in longlong_scalars\n",
      "  (2 * xtie * ytie) / m + x0 * y0 / (9 * m * (size - 2)))\n"
     ]
    },
    {
     "data": {
      "application/vnd.jupyter.widget-view+json": {
       "model_id": "6d19478907a644aab2f4cd87b5ee64b6",
       "version_major": 2,
       "version_minor": 0
      },
      "text/plain": [
       "Generate report structure:   0%|          | 0/1 [00:00<?, ?it/s]"
      ]
     },
     "metadata": {},
     "output_type": "display_data"
    },
    {
     "data": {
      "application/vnd.jupyter.widget-view+json": {
       "model_id": "7da5d84c8ecb47fe9db0774862a29128",
       "version_major": 2,
       "version_minor": 0
      },
      "text/plain": [
       "Render HTML:   0%|          | 0/1 [00:00<?, ?it/s]"
      ]
     },
     "metadata": {},
     "output_type": "display_data"
    },
    {
     "data": {
      "application/vnd.jupyter.widget-view+json": {
       "model_id": "96984ed2e30f4f7cbcc9ce72781d00a8",
       "version_major": 2,
       "version_minor": 0
      },
      "text/plain": [
       "Export report to file:   0%|          | 0/1 [00:00<?, ?it/s]"
      ]
     },
     "metadata": {},
     "output_type": "display_data"
    }
   ],
   "source": [
    "prof_order_payments = ProfileReport(order_payments)\n",
    "prof_order_payments.to_file(output_file='Profile_reports\\order_payments.html')"
   ]
  },
  {
   "cell_type": "code",
   "execution_count": 11,
   "metadata": {},
   "outputs": [
    {
     "data": {
      "application/vnd.jupyter.widget-view+json": {
       "model_id": "b753b50bdfd04720b3eea45e42b7573e",
       "version_major": 2,
       "version_minor": 0
      },
      "text/plain": [
       "Summarize dataset:   0%|          | 0/5 [00:00<?, ?it/s]"
      ]
     },
     "metadata": {},
     "output_type": "display_data"
    },
    {
     "data": {
      "application/vnd.jupyter.widget-view+json": {
       "model_id": "0a3d60a77d3b464088f55f1599620e31",
       "version_major": 2,
       "version_minor": 0
      },
      "text/plain": [
       "Generate report structure:   0%|          | 0/1 [00:00<?, ?it/s]"
      ]
     },
     "metadata": {},
     "output_type": "display_data"
    },
    {
     "data": {
      "application/vnd.jupyter.widget-view+json": {
       "model_id": "71cc1d303a4c46d6aadb2e39a97c0890",
       "version_major": 2,
       "version_minor": 0
      },
      "text/plain": [
       "Render HTML:   0%|          | 0/1 [00:00<?, ?it/s]"
      ]
     },
     "metadata": {},
     "output_type": "display_data"
    },
    {
     "data": {
      "application/vnd.jupyter.widget-view+json": {
       "model_id": "f8841e302cf34beea9a715f0ca0e0bca",
       "version_major": 2,
       "version_minor": 0
      },
      "text/plain": [
       "Export report to file:   0%|          | 0/1 [00:00<?, ?it/s]"
      ]
     },
     "metadata": {},
     "output_type": "display_data"
    }
   ],
   "source": [
    "prof_order_reviews = ProfileReport(order_reviews)\n",
    "prof_order_reviews.to_file(output_file='Profile_reports\\order_reviews.html')"
   ]
  },
  {
   "cell_type": "code",
   "execution_count": 12,
   "metadata": {},
   "outputs": [
    {
     "data": {
      "application/vnd.jupyter.widget-view+json": {
       "model_id": "4070e6ace14f4bea8afedddec117920e",
       "version_major": 2,
       "version_minor": 0
      },
      "text/plain": [
       "Summarize dataset:   0%|          | 0/5 [00:00<?, ?it/s]"
      ]
     },
     "metadata": {},
     "output_type": "display_data"
    },
    {
     "data": {
      "application/vnd.jupyter.widget-view+json": {
       "model_id": "4cc14df1f02f44b888916243783eec8f",
       "version_major": 2,
       "version_minor": 0
      },
      "text/plain": [
       "Generate report structure:   0%|          | 0/1 [00:00<?, ?it/s]"
      ]
     },
     "metadata": {},
     "output_type": "display_data"
    },
    {
     "data": {
      "application/vnd.jupyter.widget-view+json": {
       "model_id": "df6827cc57f149cdbba1b2b66959bade",
       "version_major": 2,
       "version_minor": 0
      },
      "text/plain": [
       "Render HTML:   0%|          | 0/1 [00:00<?, ?it/s]"
      ]
     },
     "metadata": {},
     "output_type": "display_data"
    },
    {
     "data": {
      "application/vnd.jupyter.widget-view+json": {
       "model_id": "4aae22be6d184146b50fa00e2db12019",
       "version_major": 2,
       "version_minor": 0
      },
      "text/plain": [
       "Export report to file:   0%|          | 0/1 [00:00<?, ?it/s]"
      ]
     },
     "metadata": {},
     "output_type": "display_data"
    }
   ],
   "source": [
    "prof_orders = ProfileReport(orders)\n",
    "prof_orders.to_file(output_file='Profile_reports\\orders.html')"
   ]
  },
  {
   "cell_type": "code",
   "execution_count": 13,
   "metadata": {},
   "outputs": [
    {
     "data": {
      "application/vnd.jupyter.widget-view+json": {
       "model_id": "f031977afbb04c0284093e04d675a704",
       "version_major": 2,
       "version_minor": 0
      },
      "text/plain": [
       "Summarize dataset:   0%|          | 0/5 [00:00<?, ?it/s]"
      ]
     },
     "metadata": {},
     "output_type": "display_data"
    },
    {
     "data": {
      "application/vnd.jupyter.widget-view+json": {
       "model_id": "6c7215aa5833417cb9d1a5fb77acb770",
       "version_major": 2,
       "version_minor": 0
      },
      "text/plain": [
       "Generate report structure:   0%|          | 0/1 [00:00<?, ?it/s]"
      ]
     },
     "metadata": {},
     "output_type": "display_data"
    },
    {
     "data": {
      "application/vnd.jupyter.widget-view+json": {
       "model_id": "23c17c192e50427b97517864cd4dfecf",
       "version_major": 2,
       "version_minor": 0
      },
      "text/plain": [
       "Render HTML:   0%|          | 0/1 [00:00<?, ?it/s]"
      ]
     },
     "metadata": {},
     "output_type": "display_data"
    },
    {
     "data": {
      "application/vnd.jupyter.widget-view+json": {
       "model_id": "9a51466fa582449c881d00c6ae61920c",
       "version_major": 2,
       "version_minor": 0
      },
      "text/plain": [
       "Export report to file:   0%|          | 0/1 [00:00<?, ?it/s]"
      ]
     },
     "metadata": {},
     "output_type": "display_data"
    }
   ],
   "source": [
    "prof_products = ProfileReport(products)\n",
    "prof_products.to_file(output_file='Profile_reports\\products.html')"
   ]
  },
  {
   "cell_type": "code",
   "execution_count": 14,
   "metadata": {},
   "outputs": [
    {
     "data": {
      "application/vnd.jupyter.widget-view+json": {
       "model_id": "1b1d07caad9a4cdd96b8683aefa2b9be",
       "version_major": 2,
       "version_minor": 0
      },
      "text/plain": [
       "Summarize dataset:   0%|          | 0/5 [00:00<?, ?it/s]"
      ]
     },
     "metadata": {},
     "output_type": "display_data"
    },
    {
     "data": {
      "application/vnd.jupyter.widget-view+json": {
       "model_id": "32d4d72150a84f8cb429b618eb2815e7",
       "version_major": 2,
       "version_minor": 0
      },
      "text/plain": [
       "Generate report structure:   0%|          | 0/1 [00:00<?, ?it/s]"
      ]
     },
     "metadata": {},
     "output_type": "display_data"
    },
    {
     "data": {
      "application/vnd.jupyter.widget-view+json": {
       "model_id": "8245c3f905fa4ad4976875fa32b06721",
       "version_major": 2,
       "version_minor": 0
      },
      "text/plain": [
       "Render HTML:   0%|          | 0/1 [00:00<?, ?it/s]"
      ]
     },
     "metadata": {},
     "output_type": "display_data"
    },
    {
     "data": {
      "application/vnd.jupyter.widget-view+json": {
       "model_id": "606c19b6214143a3ba5b0bf4bcc191f5",
       "version_major": 2,
       "version_minor": 0
      },
      "text/plain": [
       "Export report to file:   0%|          | 0/1 [00:00<?, ?it/s]"
      ]
     },
     "metadata": {},
     "output_type": "display_data"
    }
   ],
   "source": [
    "prof_sellers = ProfileReport(sellers)\n",
    "prof_sellers.to_file(output_file='Profile_reports\\sellers.html')"
   ]
  },
  {
   "cell_type": "code",
   "execution_count": 15,
   "metadata": {},
   "outputs": [
    {
     "data": {
      "application/vnd.jupyter.widget-view+json": {
       "model_id": "8bfa397fd7e947e48d600c303e70c1cf",
       "version_major": 2,
       "version_minor": 0
      },
      "text/plain": [
       "Summarize dataset:   0%|          | 0/5 [00:00<?, ?it/s]"
      ]
     },
     "metadata": {},
     "output_type": "display_data"
    },
    {
     "data": {
      "application/vnd.jupyter.widget-view+json": {
       "model_id": "ade481c3e9c04908b2563e9125c1527a",
       "version_major": 2,
       "version_minor": 0
      },
      "text/plain": [
       "Generate report structure:   0%|          | 0/1 [00:00<?, ?it/s]"
      ]
     },
     "metadata": {},
     "output_type": "display_data"
    },
    {
     "data": {
      "application/vnd.jupyter.widget-view+json": {
       "model_id": "623d11b91ea9456c94ac5efea3bca0b0",
       "version_major": 2,
       "version_minor": 0
      },
      "text/plain": [
       "Render HTML:   0%|          | 0/1 [00:00<?, ?it/s]"
      ]
     },
     "metadata": {},
     "output_type": "display_data"
    },
    {
     "data": {
      "application/vnd.jupyter.widget-view+json": {
       "model_id": "4d90a2bdbab346988229eeda751b584b",
       "version_major": 2,
       "version_minor": 0
      },
      "text/plain": [
       "Export report to file:   0%|          | 0/1 [00:00<?, ?it/s]"
      ]
     },
     "metadata": {},
     "output_type": "display_data"
    }
   ],
   "source": [
    "prof_product_category_nt = ProfileReport(product_category_nt)\n",
    "prof_product_category_nt.to_file(output_file='Profile_reports\\product_category_nt.html')"
   ]
  },
  {
   "cell_type": "code",
   "execution_count": 20,
   "metadata": {},
   "outputs": [
    {
     "data": {
      "text/html": [
       "<style type=\"text/css\">\n",
       "#T_cbb77_row0_col1, #T_cbb77_row1_col1, #T_cbb77_row3_col1 {\n",
       "  background-color: #d9d9d9;\n",
       "  color: #000000;\n",
       "}\n",
       "#T_cbb77_row0_col3, #T_cbb77_row3_col3, #T_cbb77_row4_col3, #T_cbb77_row6_col3 {\n",
       "  background-color: #f3f3f3;\n",
       "  color: #000000;\n",
       "}\n",
       "#T_cbb77_row1_col3, #T_cbb77_row9_col1 {\n",
       "  background-color: #000000;\n",
       "  color: #f1f1f1;\n",
       "}\n",
       "#T_cbb77_row2_col1, #T_cbb77_row6_col1 {\n",
       "  background-color: #b0b0b0;\n",
       "  color: #000000;\n",
       "}\n",
       "#T_cbb77_row2_col3 {\n",
       "  background-color: #f2f2f2;\n",
       "  color: #000000;\n",
       "}\n",
       "#T_cbb77_row4_col1 {\n",
       "  background-color: #959595;\n",
       "  color: #f1f1f1;\n",
       "}\n",
       "#T_cbb77_row5_col1 {\n",
       "  background-color: #7e7e7e;\n",
       "  color: #f1f1f1;\n",
       "}\n",
       "#T_cbb77_row5_col3 {\n",
       "  background-color: #fbfbfb;\n",
       "  color: #000000;\n",
       "}\n",
       "#T_cbb77_row7_col1, #T_cbb77_row10_col1 {\n",
       "  background-color: #e9e9e9;\n",
       "  color: #000000;\n",
       "}\n",
       "#T_cbb77_row7_col3, #T_cbb77_row8_col1, #T_cbb77_row8_col3, #T_cbb77_row9_col3 {\n",
       "  background-color: #ffffff;\n",
       "  color: #000000;\n",
       "}\n",
       "#T_cbb77_row10_col3 {\n",
       "  background-color: #fefefe;\n",
       "  color: #000000;\n",
       "}\n",
       "</style>\n",
       "<table id=\"T_cbb77\">\n",
       "  <thead>\n",
       "    <tr>\n",
       "      <th class=\"blank level0\" >&nbsp;</th>\n",
       "      <th id=\"T_cbb77_level0_col0\" class=\"col_heading level0 col0\" >dataset</th>\n",
       "      <th id=\"T_cbb77_level0_col1\" class=\"col_heading level0 col1\" >no_of_columns</th>\n",
       "      <th id=\"T_cbb77_level0_col2\" class=\"col_heading level0 col2\" >columns_name</th>\n",
       "      <th id=\"T_cbb77_level0_col3\" class=\"col_heading level0 col3\" >no_of_rows</th>\n",
       "    </tr>\n",
       "  </thead>\n",
       "  <tbody>\n",
       "    <tr>\n",
       "      <th id=\"T_cbb77_level0_row0\" class=\"row_heading level0 row0\" >0</th>\n",
       "      <td id=\"T_cbb77_row0_col0\" class=\"data row0 col0\" >customers</td>\n",
       "      <td id=\"T_cbb77_row0_col1\" class=\"data row0 col1\" >5</td>\n",
       "      <td id=\"T_cbb77_row0_col2\" class=\"data row0 col2\" >customer_id, customer_unique_id, customer_zip_code_prefix, customer_city, customer_state</td>\n",
       "      <td id=\"T_cbb77_row0_col3\" class=\"data row0 col3\" >99441</td>\n",
       "    </tr>\n",
       "    <tr>\n",
       "      <th id=\"T_cbb77_level0_row1\" class=\"row_heading level0 row1\" >1</th>\n",
       "      <td id=\"T_cbb77_row1_col0\" class=\"data row1 col0\" >geolocations</td>\n",
       "      <td id=\"T_cbb77_row1_col1\" class=\"data row1 col1\" >5</td>\n",
       "      <td id=\"T_cbb77_row1_col2\" class=\"data row1 col2\" >geolocation_zip_code_prefix, geolocation_lat, geolocation_lng, geolocation_city, geolocation_state</td>\n",
       "      <td id=\"T_cbb77_row1_col3\" class=\"data row1 col3\" >1000163</td>\n",
       "    </tr>\n",
       "    <tr>\n",
       "      <th id=\"T_cbb77_level0_row2\" class=\"row_heading level0 row2\" >2</th>\n",
       "      <td id=\"T_cbb77_row2_col0\" class=\"data row2 col0\" >items</td>\n",
       "      <td id=\"T_cbb77_row2_col1\" class=\"data row2 col1\" >7</td>\n",
       "      <td id=\"T_cbb77_row2_col2\" class=\"data row2 col2\" >order_id, order_item_id, product_id, seller_id, shipping_limit_date, price, freight_value</td>\n",
       "      <td id=\"T_cbb77_row2_col3\" class=\"data row2 col3\" >112650</td>\n",
       "    </tr>\n",
       "    <tr>\n",
       "      <th id=\"T_cbb77_level0_row3\" class=\"row_heading level0 row3\" >3</th>\n",
       "      <td id=\"T_cbb77_row3_col0\" class=\"data row3 col0\" >payments</td>\n",
       "      <td id=\"T_cbb77_row3_col1\" class=\"data row3 col1\" >5</td>\n",
       "      <td id=\"T_cbb77_row3_col2\" class=\"data row3 col2\" >order_id, payment_sequential, payment_type, payment_installments, payment_value</td>\n",
       "      <td id=\"T_cbb77_row3_col3\" class=\"data row3 col3\" >103886</td>\n",
       "    </tr>\n",
       "    <tr>\n",
       "      <th id=\"T_cbb77_level0_row4\" class=\"row_heading level0 row4\" >4</th>\n",
       "      <td id=\"T_cbb77_row4_col0\" class=\"data row4 col0\" >orders</td>\n",
       "      <td id=\"T_cbb77_row4_col1\" class=\"data row4 col1\" >8</td>\n",
       "      <td id=\"T_cbb77_row4_col2\" class=\"data row4 col2\" >order_id, customer_id, order_status, order_purchase_timestamp, order_approved_at, order_delivered_carrier_date, order_delivered_customer_date, order_estimated_delivery_date</td>\n",
       "      <td id=\"T_cbb77_row4_col3\" class=\"data row4 col3\" >99441</td>\n",
       "    </tr>\n",
       "    <tr>\n",
       "      <th id=\"T_cbb77_level0_row5\" class=\"row_heading level0 row5\" >5</th>\n",
       "      <td id=\"T_cbb77_row5_col0\" class=\"data row5 col0\" >products</td>\n",
       "      <td id=\"T_cbb77_row5_col1\" class=\"data row5 col1\" >9</td>\n",
       "      <td id=\"T_cbb77_row5_col2\" class=\"data row5 col2\" >product_id, product_category_name, product_name_lenght, product_description_lenght, product_photos_qty, product_weight_g, product_length_cm, product_height_cm, product_width_cm</td>\n",
       "      <td id=\"T_cbb77_row5_col3\" class=\"data row5 col3\" >32951</td>\n",
       "    </tr>\n",
       "    <tr>\n",
       "      <th id=\"T_cbb77_level0_row6\" class=\"row_heading level0 row6\" >6</th>\n",
       "      <td id=\"T_cbb77_row6_col0\" class=\"data row6 col0\" >reviews</td>\n",
       "      <td id=\"T_cbb77_row6_col1\" class=\"data row6 col1\" >7</td>\n",
       "      <td id=\"T_cbb77_row6_col2\" class=\"data row6 col2\" >review_id, order_id, review_score, review_comment_title, review_comment_message, review_creation_date, review_answer_timestamp</td>\n",
       "      <td id=\"T_cbb77_row6_col3\" class=\"data row6 col3\" >99224</td>\n",
       "    </tr>\n",
       "    <tr>\n",
       "      <th id=\"T_cbb77_level0_row7\" class=\"row_heading level0 row7\" >7</th>\n",
       "      <td id=\"T_cbb77_row7_col0\" class=\"data row7 col0\" >sellers</td>\n",
       "      <td id=\"T_cbb77_row7_col1\" class=\"data row7 col1\" >4</td>\n",
       "      <td id=\"T_cbb77_row7_col2\" class=\"data row7 col2\" >seller_id, seller_zip_code_prefix, seller_city, seller_state</td>\n",
       "      <td id=\"T_cbb77_row7_col3\" class=\"data row7 col3\" >3095</td>\n",
       "    </tr>\n",
       "    <tr>\n",
       "      <th id=\"T_cbb77_level0_row8\" class=\"row_heading level0 row8\" >8</th>\n",
       "      <td id=\"T_cbb77_row8_col0\" class=\"data row8 col0\" >category_translation</td>\n",
       "      <td id=\"T_cbb77_row8_col1\" class=\"data row8 col1\" >2</td>\n",
       "      <td id=\"T_cbb77_row8_col2\" class=\"data row8 col2\" >product_category_name, product_category_name_english</td>\n",
       "      <td id=\"T_cbb77_row8_col3\" class=\"data row8 col3\" >71</td>\n",
       "    </tr>\n",
       "    <tr>\n",
       "      <th id=\"T_cbb77_level0_row9\" class=\"row_heading level0 row9\" >9</th>\n",
       "      <td id=\"T_cbb77_row9_col0\" class=\"data row9 col0\" >closed_deals</td>\n",
       "      <td id=\"T_cbb77_row9_col1\" class=\"data row9 col1\" >14</td>\n",
       "      <td id=\"T_cbb77_row9_col2\" class=\"data row9 col2\" >mql_id, seller_id, sdr_id, sr_id, won_date, business_segment, lead_type, lead_behaviour_profile, has_company, has_gtin, average_stock, business_type, declared_product_catalog_size, declared_monthly_revenue</td>\n",
       "      <td id=\"T_cbb77_row9_col3\" class=\"data row9 col3\" >842</td>\n",
       "    </tr>\n",
       "    <tr>\n",
       "      <th id=\"T_cbb77_level0_row10\" class=\"row_heading level0 row10\" >10</th>\n",
       "      <td id=\"T_cbb77_row10_col0\" class=\"data row10 col0\" >qualified_leads</td>\n",
       "      <td id=\"T_cbb77_row10_col1\" class=\"data row10 col1\" >4</td>\n",
       "      <td id=\"T_cbb77_row10_col2\" class=\"data row10 col2\" >mql_id, first_contact_date, landing_page_id, origin</td>\n",
       "      <td id=\"T_cbb77_row10_col3\" class=\"data row10 col3\" >8000</td>\n",
       "    </tr>\n",
       "  </tbody>\n",
       "</table>\n"
      ],
      "text/plain": [
       "<pandas.io.formats.style.Styler at 0x17366c1fc40>"
      ]
     },
     "execution_count": 20,
     "metadata": {},
     "output_type": "execute_result"
    }
   ],
   "source": [
    "#Revisando numero de columnas, nombres de columnas y numero de filas\n",
    "\n",
    "datasets = [customers,geolocation,order_items, order_payments, orders,products, order_reviews ,sellers,product_category_nt, closed_deals,marketing_ql]\n",
    "titles = [\"customers\",\"geolocations\",\"items\", \"payments\", \"orders\", \"products\",\"reviews\",\"sellers\",\"category_translation\",\"closed_deals\",\"qualified_leads\"]\n",
    "\n",
    "\n",
    "\n",
    "info_df = pd.DataFrame({},)\n",
    "info_df['dataset']= titles\n",
    "\n",
    "info_df['no_of_columns']= [len(df.columns) for df in datasets ]\n",
    "info_df['columns_name']= [', '.join(list(df.columns)) for df in datasets] \n",
    "info_df['no_of_rows'] = [len(df) for df in datasets]\n",
    "\n",
    "info_df.style.background_gradient(cmap='Greys')"
   ]
  },
  {
   "cell_type": "code",
   "execution_count": null,
   "metadata": {},
   "outputs": [],
   "source": []
  },
  {
   "cell_type": "code",
   "execution_count": 17,
   "metadata": {},
   "outputs": [
    {
     "name": "stderr",
     "output_type": "stream",
     "text": [
      "c:\\Users\\PCMYM\\AppData\\Local\\Programs\\Python\\Python310\\lib\\site-packages\\seaborn\\_decorators.py:36: FutureWarning: Pass the following variable as a keyword arg: x. From version 0.12, the only valid positional argument will be `data`, and passing other arguments without an explicit keyword will result in an error or misinterpretation.\n",
      "  warnings.warn(\n"
     ]
    },
    {
     "data": {
      "image/png": "[encoded data removed]",
      "text/plain": [
       "<Figure size 720x720 with 1 Axes>"
      ]
     },
     "metadata": {},
     "output_type": "display_data"
    }
   ],
   "source": [
    "sns.set(rc={'figure.figsize':(10,10)})\n",
    "ax = sns.countplot(\"customer_state\",data=customers)\n",
    "ax.set_title('Customers From different State')\n",
    "plt.show()"
   ]
  },
  {
   "cell_type": "code",
   "execution_count": null,
   "metadata": {},
   "outputs": [],
   "source": []
  }
 ],
 "metadata": {
  "kernelspec": {
   "display_name": "Python 3.10.4 64-bit",
   "language": "python",
   "name": "python3"
  },
  "language_info": {
   "codemirror_mode": {
    "name": "ipython",
    "version": 3
   },
   "file_extension": ".py",
   "mimetype": "text/x-python",
   "name": "python",
   "nbconvert_exporter": "python",
   "pygments_lexer": "ipython3",
   "version": "3.10.4"
  },
  "orig_nbformat": 4,
  "vscode": {
   "interpreter": {
    "hash": "0924f6cd1d5c63a1a3921f600017fca30abae44e7906b688aa257ce50eaba5b6"
   }
  }
 },
 "nbformat": 4,
 "nbformat_minor": 2
}