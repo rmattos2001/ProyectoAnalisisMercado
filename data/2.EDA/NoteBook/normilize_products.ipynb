{
 "cells": [
  {
   "cell_type": "code",
   "execution_count": 1,
   "outputs": [],
   "source": [
    "import pandas as pd"
   ],
   "metadata": {
    "collapsed": false,
    "pycharm": {
     "name": "#%%\n"
    }
   }
  },
  {
   "cell_type": "code",
   "execution_count": 2,
   "outputs": [],
   "source": [
    "df_products = pd.read_csv('./Datasets/olist_products_dataset.csv')\n",
    "#df_items = pd.read_csv('./Datasets/olist_order_items_dataset.csv')"
   ],
   "metadata": {
    "collapsed": false,
    "pycharm": {
     "name": "#%%\n"
    }
   }
  },
  {
   "cell_type": "code",
   "execution_count": 3,
   "outputs": [
    {
     "name": "stdout",
     "output_type": "stream",
     "text": [
      "<class 'pandas.core.frame.DataFrame'>\n",
      "RangeIndex: 32951 entries, 0 to 32950\n",
      "Data columns (total 2 columns):\n",
      " #   Column                 Non-Null Count  Dtype \n",
      "---  ------                 --------------  ----- \n",
      " 0   product_id             32951 non-null  object\n",
      " 1   product_category_name  32341 non-null  object\n",
      "dtypes: object(2)\n",
      "memory usage: 515.0+ KB\n"
     ]
    }
   ],
   "source": [
    "df_products = df_products.loc[:,['product_id', 'product_category_name']]\n",
    "df_products.info()"
   ],
   "metadata": {
    "collapsed": false,
    "pycharm": {
     "name": "#%%\n"
    }
   }
  },
  {
   "cell_type": "code",
   "execution_count": 75,
   "outputs": [],
   "source": [
    "seller_by_item = df_items.merge(right=df_products, how='inner', on='product_id').loc[:,['product_id', 'seller_id', 'product_category_name']]"
   ],
   "metadata": {
    "collapsed": false,
    "pycharm": {
     "name": "#%%\n"
    }
   }
  },
  {
   "cell_type": "code",
   "execution_count": 76,
   "outputs": [],
   "source": [
    "seller_by_item.drop_duplicates(inplace=True)"
   ],
   "metadata": {
    "collapsed": false,
    "pycharm": {
     "name": "#%%\n"
    }
   }
  },
  {
   "cell_type": "code",
   "execution_count": 77,
   "outputs": [],
   "source": [
    "item_mode = seller_by_item.groupby(by='seller_id')['product_category_name'].apply(pd.Series.mode)\n",
    "item_mode = item_mode.reset_index()\n",
    "item_mode = item_mode.loc[:,['seller_id', 'product_category_name']]\n",
    "item_mode.rename(columns={'product_category_name':'most_category'}, inplace=True)"
   ],
   "metadata": {
    "collapsed": false,
    "pycharm": {
     "name": "#%%\n"
    }
   }
  },
  {
   "cell_type": "code",
   "execution_count": 80,
   "outputs": [],
   "source": [
    "product_mode = item_mode.merge(right=seller_by_item, on='seller_id')\n",
    "product_mode = product_mode.loc[:,['product_id', 'most_category']]"
   ],
   "metadata": {
    "collapsed": false,
    "pycharm": {
     "name": "#%%\n"
    }
   }
  },
  {
   "cell_type": "code",
   "execution_count": 81,
   "outputs": [
    {
     "data": {
      "text/plain": "                             product_id       most_category\n0      a2ff5a97bf95719e38ea2e3b4105bce8     eletroportateis\n1      08574b074924071f4e201e151b152b4e  ferramentas_jardim\n2      4f3b83b83f7fb280fca4f90ba502f50e  ferramentas_jardim\n3      547b95702aec86f05ac37e61d164891c  ferramentas_jardim\n4      e251ebd2858be1aa7d9b2087a6992580  ferramentas_jardim\n...                                 ...                 ...\n36078  c5897f6f2d995196dbb40542439da9b9          automotivo\n36079  24905035adec59d4ab5a46c13973ef17          automotivo\n36080  47dbce97622eb7520b80d26ab613414e          automotivo\n36081  8f7a3322e1abfed89ac080b0f7364779          automotivo\n36082  cb17b798ba889575385281b7ec2fc22b          automotivo\n\n[36083 rows x 2 columns]",
      "text/html": "<div>\n<style scoped>\n    .dataframe tbody tr th:only-of-type {\n        vertical-align: middle;\n    }\n\n    .dataframe tbody tr th {\n        vertical-align: top;\n    }\n\n    .dataframe thead th {\n        text-align: right;\n    }\n</style>\n<table border=\"1\" class=\"dataframe\">\n  <thead>\n    <tr style=\"text-align: right;\">\n      <th></th>\n      <th>product_id</th>\n      <th>most_category</th>\n    </tr>\n  </thead>\n  <tbody>\n    <tr>\n      <th>0</th>\n      <td>a2ff5a97bf95719e38ea2e3b4105bce8</td>\n      <td>eletroportateis</td>\n    </tr>\n    <tr>\n      <th>1</th>\n      <td>08574b074924071f4e201e151b152b4e</td>\n      <td>ferramentas_jardim</td>\n    </tr>\n    <tr>\n      <th>2</th>\n      <td>4f3b83b83f7fb280fca4f90ba502f50e</td>\n      <td>ferramentas_jardim</td>\n    </tr>\n    <tr>\n      <th>3</th>\n      <td>547b95702aec86f05ac37e61d164891c</td>\n      <td>ferramentas_jardim</td>\n    </tr>\n    <tr>\n      <th>4</th>\n      <td>e251ebd2858be1aa7d9b2087a6992580</td>\n      <td>ferramentas_jardim</td>\n    </tr>\n    <tr>\n      <th>...</th>\n      <td>...</td>\n      <td>...</td>\n    </tr>\n    <tr>\n      <th>36078</th>\n      <td>c5897f6f2d995196dbb40542439da9b9</td>\n      <td>automotivo</td>\n    </tr>\n    <tr>\n      <th>36079</th>\n      <td>24905035adec59d4ab5a46c13973ef17</td>\n      <td>automotivo</td>\n    </tr>\n    <tr>\n      <th>36080</th>\n      <td>47dbce97622eb7520b80d26ab613414e</td>\n      <td>automotivo</td>\n    </tr>\n    <tr>\n      <th>36081</th>\n      <td>8f7a3322e1abfed89ac080b0f7364779</td>\n      <td>automotivo</td>\n    </tr>\n    <tr>\n      <th>36082</th>\n      <td>cb17b798ba889575385281b7ec2fc22b</td>\n      <td>automotivo</td>\n    </tr>\n  </tbody>\n</table>\n<p>36083 rows × 2 columns</p>\n</div>"
     },
     "execution_count": 81,
     "metadata": {},
     "output_type": "execute_result"
    }
   ],
   "source": [
    "product_mode"
   ],
   "metadata": {
    "collapsed": false,
    "pycharm": {
     "name": "#%%\n"
    }
   }
  }
 ],
 "metadata": {
  "kernelspec": {
   "display_name": "Python 3",
   "language": "python",
   "name": "python3"
  },
  "language_info": {
   "codemirror_mode": {
    "name": "ipython",
    "version": 2
   },
   "file_extension": ".py",
   "mimetype": "text/x-python",
   "name": "python",
   "nbconvert_exporter": "python",
   "pygments_lexer": "ipython2",
   "version": "2.7.6"
  }
 },
 "nbformat": 4,
 "nbformat_minor": 0
}