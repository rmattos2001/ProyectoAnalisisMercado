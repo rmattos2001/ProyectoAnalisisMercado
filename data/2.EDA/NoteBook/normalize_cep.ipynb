{
 "cells": [
  {
   "cell_type": "code",
   "execution_count": 168,
   "metadata": {
    "collapsed": true,
    "pycharm": {
     "name": "#%%\n"
    }
   },
   "outputs": [],
   "source": [
    "import numpy as np\n",
    "import pandas as pd"
   ]
  },
  {
   "cell_type": "code",
   "execution_count": 169,
   "outputs": [],
   "source": [
    "df_sellers = pd.read_csv('./Datasets/olist_sellers_dataset.csv')\n",
    "df_costumers = pd.read_csv('./Datasets/olist_customers_dataset.csv')\n",
    "df_geo = pd.read_csv('./Datasets/olist_geolocation_dataset.csv')"
   ],
   "metadata": {
    "collapsed": false,
    "pycharm": {
     "name": "#%%\n"
    }
   }
  },
  {
   "cell_type": "code",
   "execution_count": 170,
   "outputs": [],
   "source": [
    "df_cep = pd.read_csv('./Datasets/TB_CEP_BR_2018.csv', delimiter=';', dtype='string')\n",
    "df_post = pd.read_csv('./Datasets/postal_code.csv', delimiter = ';')\n",
    "df_scraped = pd.read_csv('./Datasets/scraped_cep.csv', delimiter = ';')"
   ],
   "metadata": {
    "collapsed": false,
    "pycharm": {
     "name": "#%%\n"
    }
   }
  },
  {
   "cell_type": "code",
   "execution_count": 171,
   "outputs": [],
   "source": [
    "def to_num(x):\n",
    "    x = x[:-3]\n",
    "    if x.isnumeric():\n",
    "        return int(x)\n",
    "    else:\n",
    "        return x"
   ],
   "metadata": {
    "collapsed": false,
    "pycharm": {
     "name": "#%%\n"
    }
   }
  },
  {
   "cell_type": "code",
   "execution_count": 172,
   "outputs": [],
   "source": [
    "df_cep = df_cep.loc[:,['CEP','CIDADE','UF']]\n",
    "df_cep.rename(columns={'CIDADE': 'City', 'UF': 'State'}, inplace=True)"
   ],
   "metadata": {
    "collapsed": false,
    "pycharm": {
     "name": "#%%\n"
    }
   }
  },
  {
   "cell_type": "code",
   "execution_count": 173,
   "outputs": [],
   "source": [
    "df_cep['CEP'] = df_cep['CEP'].apply(to_num)"
   ],
   "metadata": {
    "collapsed": false,
    "pycharm": {
     "name": "#%%\n"
    }
   }
  },
  {
   "cell_type": "code",
   "execution_count": 174,
   "outputs": [],
   "source": [
    "df_zip = pd.concat([df_cep, df_post, df_scraped], ignore_index=True)"
   ],
   "metadata": {
    "collapsed": false,
    "pycharm": {
     "name": "#%%\n"
    }
   }
  },
  {
   "cell_type": "code",
   "execution_count": 175,
   "outputs": [],
   "source": [
    "def get_city(x):\n",
    "    city = x.split('(')\n",
    "    if len(city) > 1:\n",
    "        return city[1][:-1]\n",
    "    else:\n",
    "        return x\n",
    "\n",
    "def get_state(x):\n",
    "    state = x.split(' ')\n",
    "    if len(state) > 1:\n",
    "        return state[0]\n",
    "    else:\n",
    "        return x"
   ],
   "metadata": {
    "collapsed": false,
    "pycharm": {
     "name": "#%%\n"
    }
   }
  },
  {
   "cell_type": "code",
   "execution_count": 176,
   "outputs": [],
   "source": [
    "df_zip['City'] = df_zip['City'].apply(get_city)\n",
    "df_zip['State'] = df_zip['State'].apply(get_state)"
   ],
   "metadata": {
    "collapsed": false,
    "pycharm": {
     "name": "#%%\n"
    }
   }
  },
  {
   "cell_type": "code",
   "execution_count": 177,
   "outputs": [],
   "source": [
    "df_zip.drop_duplicates(inplace=True)\n",
    "df_zip.sort_values(by='CEP', inplace=True)\n",
    "df_zip.reset_index(inplace=True, drop = True)"
   ],
   "metadata": {
    "collapsed": false,
    "pycharm": {
     "name": "#%%\n"
    }
   }
  },
  {
   "cell_type": "code",
   "execution_count": 178,
   "outputs": [],
   "source": [
    "df_zip['City'] = df_zip['City'].apply(lambda x: np.nan if x == 'Null' else x)\n",
    "df_zip['State'] = df_zip['State'].apply(lambda x: np.nan if x == 'Null' else x)"
   ],
   "metadata": {
    "collapsed": false,
    "pycharm": {
     "name": "#%%\n"
    }
   }
  },
  {
   "cell_type": "code",
   "execution_count": 179,
   "outputs": [],
   "source": [
    "def fillna(x):\n",
    "    if x.shift(1) == x.shift(-1):\n",
    "        return x.shift(1)\n",
    "    else:\n",
    "        return x"
   ],
   "metadata": {
    "collapsed": false,
    "pycharm": {
     "name": "#%%\n"
    }
   }
  },
  {
   "cell_type": "code",
   "execution_count": 180,
   "outputs": [
    {
     "data": {
      "text/plain": "         cep             city state\n0       1001        São Paulo    SP\n1       1002        São Paulo    SP\n2       1003        São Paulo    SP\n3       1004        São Paulo    SP\n4       1005        São Paulo    SP\n...      ...              ...   ...\n24949  99970          Ciríaco    RS\n24950  99975          Ciríaco    RS\n24951  99978          Ciríaco    RS\n24952  99980  David Canabarro    RS\n24953  99990        Muliterno    RS\n\n[24954 rows x 3 columns]",
      "text/html": "<div>\n<style scoped>\n    .dataframe tbody tr th:only-of-type {\n        vertical-align: middle;\n    }\n\n    .dataframe tbody tr th {\n        vertical-align: top;\n    }\n\n    .dataframe thead th {\n        text-align: right;\n    }\n</style>\n<table border=\"1\" class=\"dataframe\">\n  <thead>\n    <tr style=\"text-align: right;\">\n      <th></th>\n      <th>cep</th>\n      <th>city</th>\n      <th>state</th>\n    </tr>\n  </thead>\n  <tbody>\n    <tr>\n      <th>0</th>\n      <td>1001</td>\n      <td>São Paulo</td>\n      <td>SP</td>\n    </tr>\n    <tr>\n      <th>1</th>\n      <td>1002</td>\n      <td>São Paulo</td>\n      <td>SP</td>\n    </tr>\n    <tr>\n      <th>2</th>\n      <td>1003</td>\n      <td>São Paulo</td>\n      <td>SP</td>\n    </tr>\n    <tr>\n      <th>3</th>\n      <td>1004</td>\n      <td>São Paulo</td>\n      <td>SP</td>\n    </tr>\n    <tr>\n      <th>4</th>\n      <td>1005</td>\n      <td>São Paulo</td>\n      <td>SP</td>\n    </tr>\n    <tr>\n      <th>...</th>\n      <td>...</td>\n      <td>...</td>\n      <td>...</td>\n    </tr>\n    <tr>\n      <th>24949</th>\n      <td>99970</td>\n      <td>Ciríaco</td>\n      <td>RS</td>\n    </tr>\n    <tr>\n      <th>24950</th>\n      <td>99975</td>\n      <td>Ciríaco</td>\n      <td>RS</td>\n    </tr>\n    <tr>\n      <th>24951</th>\n      <td>99978</td>\n      <td>Ciríaco</td>\n      <td>RS</td>\n    </tr>\n    <tr>\n      <th>24952</th>\n      <td>99980</td>\n      <td>David Canabarro</td>\n      <td>RS</td>\n    </tr>\n    <tr>\n      <th>24953</th>\n      <td>99990</td>\n      <td>Muliterno</td>\n      <td>RS</td>\n    </tr>\n  </tbody>\n</table>\n<p>24954 rows × 3 columns</p>\n</div>"
     },
     "execution_count": 180,
     "metadata": {},
     "output_type": "execute_result"
    }
   ],
   "source": [
    "df_zip['City'] = df_zip['City'].shift(1).where((df_zip['City'].isna()) & (df_zip['City'].shift(1) == df_zip['City'].shift(-1)),df_zip['City'])\n",
    "df_zip['State'] = df_zip['State'].shift(1).where((df_zip['State'].isna()) & (df_zip['State'].shift(1) == df_zip['State'].shift(-1)),df_zip['State'])\n",
    "df_zip.rename(columns={'CEP':'cep', 'City':'city', 'State':'state'}, inplace=True)\n",
    "df_zip"
   ],
   "metadata": {
    "collapsed": false,
    "pycharm": {
     "name": "#%%\n"
    }
   }
  },
  {
   "cell_type": "code",
   "execution_count": 181,
   "outputs": [],
   "source": [
    "df_cities = df_zip.loc[:,['city', 'state']]\n",
    "df_cities.drop_duplicates(inplace=True)\n",
    "df_cities = df_cities[~df_cities['city'].isna()]\n",
    "df_cities.reset_index(drop=True, inplace=True)"
   ],
   "metadata": {
    "collapsed": false,
    "pycharm": {
     "name": "#%%\n"
    }
   }
  },
  {
   "cell_type": "code",
   "execution_count": 182,
   "outputs": [],
   "source": [
    "df_cities.insert(0,'city_id', range(1,1+len(df_cities)))"
   ],
   "metadata": {
    "collapsed": false,
    "pycharm": {
     "name": "#%%\n"
    }
   }
  },
  {
   "cell_type": "code",
   "execution_count": 183,
   "outputs": [
    {
     "data": {
      "text/plain": "      city_id                 city state\n0           1            São Paulo    SP\n1           2               Osasco    SP\n2           3          Carapicuíba    SP\n3           4              Barueri    SP\n4           5  Santana de Parnaíba    SP\n...       ...                  ...   ...\n5624     5625              Charrua    RS\n5625     5626           Água Santa    RS\n5626     5627              Ciríaco    RS\n5627     5628      David Canabarro    RS\n5628     5629            Muliterno    RS\n\n[5629 rows x 3 columns]",
      "text/html": "<div>\n<style scoped>\n    .dataframe tbody tr th:only-of-type {\n        vertical-align: middle;\n    }\n\n    .dataframe tbody tr th {\n        vertical-align: top;\n    }\n\n    .dataframe thead th {\n        text-align: right;\n    }\n</style>\n<table border=\"1\" class=\"dataframe\">\n  <thead>\n    <tr style=\"text-align: right;\">\n      <th></th>\n      <th>city_id</th>\n      <th>city</th>\n      <th>state</th>\n    </tr>\n  </thead>\n  <tbody>\n    <tr>\n      <th>0</th>\n      <td>1</td>\n      <td>São Paulo</td>\n      <td>SP</td>\n    </tr>\n    <tr>\n      <th>1</th>\n      <td>2</td>\n      <td>Osasco</td>\n      <td>SP</td>\n    </tr>\n    <tr>\n      <th>2</th>\n      <td>3</td>\n      <td>Carapicuíba</td>\n      <td>SP</td>\n    </tr>\n    <tr>\n      <th>3</th>\n      <td>4</td>\n      <td>Barueri</td>\n      <td>SP</td>\n    </tr>\n    <tr>\n      <th>4</th>\n      <td>5</td>\n      <td>Santana de Parnaíba</td>\n      <td>SP</td>\n    </tr>\n    <tr>\n      <th>...</th>\n      <td>...</td>\n      <td>...</td>\n      <td>...</td>\n    </tr>\n    <tr>\n      <th>5624</th>\n      <td>5625</td>\n      <td>Charrua</td>\n      <td>RS</td>\n    </tr>\n    <tr>\n      <th>5625</th>\n      <td>5626</td>\n      <td>Água Santa</td>\n      <td>RS</td>\n    </tr>\n    <tr>\n      <th>5626</th>\n      <td>5627</td>\n      <td>Ciríaco</td>\n      <td>RS</td>\n    </tr>\n    <tr>\n      <th>5627</th>\n      <td>5628</td>\n      <td>David Canabarro</td>\n      <td>RS</td>\n    </tr>\n    <tr>\n      <th>5628</th>\n      <td>5629</td>\n      <td>Muliterno</td>\n      <td>RS</td>\n    </tr>\n  </tbody>\n</table>\n<p>5629 rows × 3 columns</p>\n</div>"
     },
     "execution_count": 183,
     "metadata": {},
     "output_type": "execute_result"
    }
   ],
   "source": [
    "df_cities"
   ],
   "metadata": {
    "collapsed": false,
    "pycharm": {
     "name": "#%%\n"
    }
   }
  },
  {
   "cell_type": "code",
   "execution_count": 184,
   "outputs": [],
   "source": [
    "df_state = df_zip.loc[:,'state']\n",
    "df_state.drop_duplicates(inplace=True)\n",
    "df_state = df_state[~df_state.isna()]\n",
    "df_state.reset_index(drop=True, inplace=True)\n",
    "df_state = pd.DataFrame(data=df_state)\n",
    "df_state.insert(0,'state_id', range(1,1+len(df_state)))"
   ],
   "metadata": {
    "collapsed": false,
    "pycharm": {
     "name": "#%%\n"
    }
   }
  },
  {
   "cell_type": "code",
   "execution_count": 185,
   "outputs": [],
   "source": [
    "df_state.rename(columns={'state':'state_code'}, inplace=True)"
   ],
   "metadata": {
    "collapsed": false,
    "pycharm": {
     "name": "#%%\n"
    }
   }
  },
  {
   "cell_type": "code",
   "execution_count": 186,
   "outputs": [],
   "source": [
    "estados_br_df = pd.read_html(\"https://es.wikipedia.org/wiki/Organizaci%C3%B3n_territorial_de_Brasil\")\n",
    "estados_br_df = estados_br_df[0]\n",
    "estados_br_df.drop(['Número','Bandera','Escudo','Área (km²)','Población','Mapa'], axis=1, inplace=True)\n",
    "estados_br_df.rename(columns={'Entidad federal':'nombre_estado', 'Capital':'capital'}, inplace=True)\n",
    "estados_br_df.drop(estados_br_df.index[estados_br_df.loc[estados_br_df['nombre_estado'] == 'República Federal de Brasil'].index], inplace=True)\n",
    "estados_br_df.insert(0,'sigla_estado',estados_br_df.nombre_estado.str[-3:-1])"
   ],
   "metadata": {
    "collapsed": false,
    "pycharm": {
     "name": "#%%\n"
    }
   }
  },
  {
   "cell_type": "code",
   "execution_count": 187,
   "outputs": [
    {
     "data": {
      "text/plain": "   state_code                 state_name\n0          AC                  Acre (AC)\n1          AL               Alagoas (AL)\n2          AP                 Amapá (AP)\n3          AM              Amazonas (AM)\n4          BA                 Bahía (BA)\n5          CE                 Ceará (CE)\n6          ES        Espírito Santo (ES)\n7          GO                 Goiás (GO)\n8          MA              Maranhão (MA)\n9          MT           Mato Grosso (MT)\n10         MS   Mato Grosso del Sur (MS)\n11         MG          Minas Gerais (MG)\n12         PA                  Pará (PA)\n13         PB               Paraíba (PB)\n14         PR                Paraná (PR)\n15         PE            Pernambuco (PE)\n16         PI                 Piauí (PI)\n17         RJ        Río de Janeiro (RJ)\n18         RN  Río Grande del Norte (RN)\n19         RS    Río Grande del Sur (RS)\n20         RO              Rondônia (RO)\n21         RR               Roraima (RR)\n22         SC        Santa Catarina (SC)\n23         SP             São Paulo (SP)\n24         SE               Sergipe (SE)\n25         TO             Tocantins (TO)\n26         DF      Distrito Federal (DF)",
      "text/html": "<div>\n<style scoped>\n    .dataframe tbody tr th:only-of-type {\n        vertical-align: middle;\n    }\n\n    .dataframe tbody tr th {\n        vertical-align: top;\n    }\n\n    .dataframe thead th {\n        text-align: right;\n    }\n</style>\n<table border=\"1\" class=\"dataframe\">\n  <thead>\n    <tr style=\"text-align: right;\">\n      <th></th>\n      <th>state_code</th>\n      <th>state_name</th>\n    </tr>\n  </thead>\n  <tbody>\n    <tr>\n      <th>0</th>\n      <td>AC</td>\n      <td>Acre (AC)</td>\n    </tr>\n    <tr>\n      <th>1</th>\n      <td>AL</td>\n      <td>Alagoas (AL)</td>\n    </tr>\n    <tr>\n      <th>2</th>\n      <td>AP</td>\n      <td>Amapá (AP)</td>\n    </tr>\n    <tr>\n      <th>3</th>\n      <td>AM</td>\n      <td>Amazonas (AM)</td>\n    </tr>\n    <tr>\n      <th>4</th>\n      <td>BA</td>\n      <td>Bahía (BA)</td>\n    </tr>\n    <tr>\n      <th>5</th>\n      <td>CE</td>\n      <td>Ceará (CE)</td>\n    </tr>\n    <tr>\n      <th>6</th>\n      <td>ES</td>\n      <td>Espírito Santo (ES)</td>\n    </tr>\n    <tr>\n      <th>7</th>\n      <td>GO</td>\n      <td>Goiás (GO)</td>\n    </tr>\n    <tr>\n      <th>8</th>\n      <td>MA</td>\n      <td>Maranhão (MA)</td>\n    </tr>\n    <tr>\n      <th>9</th>\n      <td>MT</td>\n      <td>Mato Grosso (MT)</td>\n    </tr>\n    <tr>\n      <th>10</th>\n      <td>MS</td>\n      <td>Mato Grosso del Sur (MS)</td>\n    </tr>\n    <tr>\n      <th>11</th>\n      <td>MG</td>\n      <td>Minas Gerais (MG)</td>\n    </tr>\n    <tr>\n      <th>12</th>\n      <td>PA</td>\n      <td>Pará (PA)</td>\n    </tr>\n    <tr>\n      <th>13</th>\n      <td>PB</td>\n      <td>Paraíba (PB)</td>\n    </tr>\n    <tr>\n      <th>14</th>\n      <td>PR</td>\n      <td>Paraná (PR)</td>\n    </tr>\n    <tr>\n      <th>15</th>\n      <td>PE</td>\n      <td>Pernambuco (PE)</td>\n    </tr>\n    <tr>\n      <th>16</th>\n      <td>PI</td>\n      <td>Piauí (PI)</td>\n    </tr>\n    <tr>\n      <th>17</th>\n      <td>RJ</td>\n      <td>Río de Janeiro (RJ)</td>\n    </tr>\n    <tr>\n      <th>18</th>\n      <td>RN</td>\n      <td>Río Grande del Norte (RN)</td>\n    </tr>\n    <tr>\n      <th>19</th>\n      <td>RS</td>\n      <td>Río Grande del Sur (RS)</td>\n    </tr>\n    <tr>\n      <th>20</th>\n      <td>RO</td>\n      <td>Rondônia (RO)</td>\n    </tr>\n    <tr>\n      <th>21</th>\n      <td>RR</td>\n      <td>Roraima (RR)</td>\n    </tr>\n    <tr>\n      <th>22</th>\n      <td>SC</td>\n      <td>Santa Catarina (SC)</td>\n    </tr>\n    <tr>\n      <th>23</th>\n      <td>SP</td>\n      <td>São Paulo (SP)</td>\n    </tr>\n    <tr>\n      <th>24</th>\n      <td>SE</td>\n      <td>Sergipe (SE)</td>\n    </tr>\n    <tr>\n      <th>25</th>\n      <td>TO</td>\n      <td>Tocantins (TO)</td>\n    </tr>\n    <tr>\n      <th>26</th>\n      <td>DF</td>\n      <td>Distrito Federal (DF)</td>\n    </tr>\n  </tbody>\n</table>\n</div>"
     },
     "execution_count": 187,
     "metadata": {},
     "output_type": "execute_result"
    }
   ],
   "source": [
    "estados_br_df.drop(columns=['capital'], inplace=True)\n",
    "estados_br_df.rename(columns={'sigla_estado':'state_code', 'nombre_estado':'state_name'}, inplace=True)\n",
    "estados_br_df"
   ],
   "metadata": {
    "collapsed": false,
    "pycharm": {
     "name": "#%%\n"
    }
   }
  },
  {
   "cell_type": "code",
   "execution_count": 188,
   "outputs": [
    {
     "data": {
      "text/plain": "   state_code            state_name\n0          AC                  Acre\n1          AL               Alagoas\n2          AP                 Amapá\n3          AM              Amazonas\n4          BA                 Bahía\n5          CE                 Ceará\n6          ES        Espírito Santo\n7          GO                 Goiás\n8          MA              Maranhão\n9          MT           Mato Grosso\n10         MS   Mato Grosso del Sur\n11         MG          Minas Gerais\n12         PA                  Pará\n13         PB               Paraíba\n14         PR                Paraná\n15         PE            Pernambuco\n16         PI                 Piauí\n17         RJ        Río de Janeiro\n18         RN  Río Grande del Norte\n19         RS    Río Grande del Sur\n20         RO              Rondônia\n21         RR               Roraima\n22         SC        Santa Catarina\n23         SP             São Paulo\n24         SE               Sergipe\n25         TO             Tocantins\n26         DF      Distrito Federal",
      "text/html": "<div>\n<style scoped>\n    .dataframe tbody tr th:only-of-type {\n        vertical-align: middle;\n    }\n\n    .dataframe tbody tr th {\n        vertical-align: top;\n    }\n\n    .dataframe thead th {\n        text-align: right;\n    }\n</style>\n<table border=\"1\" class=\"dataframe\">\n  <thead>\n    <tr style=\"text-align: right;\">\n      <th></th>\n      <th>state_code</th>\n      <th>state_name</th>\n    </tr>\n  </thead>\n  <tbody>\n    <tr>\n      <th>0</th>\n      <td>AC</td>\n      <td>Acre</td>\n    </tr>\n    <tr>\n      <th>1</th>\n      <td>AL</td>\n      <td>Alagoas</td>\n    </tr>\n    <tr>\n      <th>2</th>\n      <td>AP</td>\n      <td>Amapá</td>\n    </tr>\n    <tr>\n      <th>3</th>\n      <td>AM</td>\n      <td>Amazonas</td>\n    </tr>\n    <tr>\n      <th>4</th>\n      <td>BA</td>\n      <td>Bahía</td>\n    </tr>\n    <tr>\n      <th>5</th>\n      <td>CE</td>\n      <td>Ceará</td>\n    </tr>\n    <tr>\n      <th>6</th>\n      <td>ES</td>\n      <td>Espírito Santo</td>\n    </tr>\n    <tr>\n      <th>7</th>\n      <td>GO</td>\n      <td>Goiás</td>\n    </tr>\n    <tr>\n      <th>8</th>\n      <td>MA</td>\n      <td>Maranhão</td>\n    </tr>\n    <tr>\n      <th>9</th>\n      <td>MT</td>\n      <td>Mato Grosso</td>\n    </tr>\n    <tr>\n      <th>10</th>\n      <td>MS</td>\n      <td>Mato Grosso del Sur</td>\n    </tr>\n    <tr>\n      <th>11</th>\n      <td>MG</td>\n      <td>Minas Gerais</td>\n    </tr>\n    <tr>\n      <th>12</th>\n      <td>PA</td>\n      <td>Pará</td>\n    </tr>\n    <tr>\n      <th>13</th>\n      <td>PB</td>\n      <td>Paraíba</td>\n    </tr>\n    <tr>\n      <th>14</th>\n      <td>PR</td>\n      <td>Paraná</td>\n    </tr>\n    <tr>\n      <th>15</th>\n      <td>PE</td>\n      <td>Pernambuco</td>\n    </tr>\n    <tr>\n      <th>16</th>\n      <td>PI</td>\n      <td>Piauí</td>\n    </tr>\n    <tr>\n      <th>17</th>\n      <td>RJ</td>\n      <td>Río de Janeiro</td>\n    </tr>\n    <tr>\n      <th>18</th>\n      <td>RN</td>\n      <td>Río Grande del Norte</td>\n    </tr>\n    <tr>\n      <th>19</th>\n      <td>RS</td>\n      <td>Río Grande del Sur</td>\n    </tr>\n    <tr>\n      <th>20</th>\n      <td>RO</td>\n      <td>Rondônia</td>\n    </tr>\n    <tr>\n      <th>21</th>\n      <td>RR</td>\n      <td>Roraima</td>\n    </tr>\n    <tr>\n      <th>22</th>\n      <td>SC</td>\n      <td>Santa Catarina</td>\n    </tr>\n    <tr>\n      <th>23</th>\n      <td>SP</td>\n      <td>São Paulo</td>\n    </tr>\n    <tr>\n      <th>24</th>\n      <td>SE</td>\n      <td>Sergipe</td>\n    </tr>\n    <tr>\n      <th>25</th>\n      <td>TO</td>\n      <td>Tocantins</td>\n    </tr>\n    <tr>\n      <th>26</th>\n      <td>DF</td>\n      <td>Distrito Federal</td>\n    </tr>\n  </tbody>\n</table>\n</div>"
     },
     "execution_count": 188,
     "metadata": {},
     "output_type": "execute_result"
    }
   ],
   "source": [
    "estados_br_df['state_name'] = estados_br_df['state_name'].apply(lambda x: x.split('(')[0][:-1])\n",
    "estados_br_df"
   ],
   "metadata": {
    "collapsed": false,
    "pycharm": {
     "name": "#%%\n"
    }
   }
  },
  {
   "cell_type": "code",
   "execution_count": 192,
   "outputs": [
    {
     "data": {
      "text/plain": "    state_id state_code            state_name\n0          1         SP             São Paulo\n1          2         RJ        Río de Janeiro\n2          3         ES        Espírito Santo\n3          4         MG          Minas Gerais\n4          5         BA                 Bahía\n5          6         SE               Sergipe\n6          7         PE            Pernambuco\n7          8         AL               Alagoas\n8          9         PB               Paraíba\n9         10         RN  Río Grande del Norte\n10        11         CE                 Ceará\n11        12         PI                 Piauí\n12        13         MA              Maranhão\n13        14         PA                  Pará\n14        15         AP                 Amapá\n15        16         AM              Amazonas\n16        17         RR               Roraima\n17        18         AC                  Acre\n18        19         DF      Distrito Federal\n19        20         GO                 Goiás\n20        21         RO              Rondônia\n21        22         TO             Tocantins\n22        23         MT           Mato Grosso\n23        24         MS   Mato Grosso del Sur\n24        25         PR                Paraná\n25        26         SC        Santa Catarina\n26        27         RS    Río Grande del Sur",
      "text/html": "<div>\n<style scoped>\n    .dataframe tbody tr th:only-of-type {\n        vertical-align: middle;\n    }\n\n    .dataframe tbody tr th {\n        vertical-align: top;\n    }\n\n    .dataframe thead th {\n        text-align: right;\n    }\n</style>\n<table border=\"1\" class=\"dataframe\">\n  <thead>\n    <tr style=\"text-align: right;\">\n      <th></th>\n      <th>state_id</th>\n      <th>state_code</th>\n      <th>state_name</th>\n    </tr>\n  </thead>\n  <tbody>\n    <tr>\n      <th>0</th>\n      <td>1</td>\n      <td>SP</td>\n      <td>São Paulo</td>\n    </tr>\n    <tr>\n      <th>1</th>\n      <td>2</td>\n      <td>RJ</td>\n      <td>Río de Janeiro</td>\n    </tr>\n    <tr>\n      <th>2</th>\n      <td>3</td>\n      <td>ES</td>\n      <td>Espírito Santo</td>\n    </tr>\n    <tr>\n      <th>3</th>\n      <td>4</td>\n      <td>MG</td>\n      <td>Minas Gerais</td>\n    </tr>\n    <tr>\n      <th>4</th>\n      <td>5</td>\n      <td>BA</td>\n      <td>Bahía</td>\n    </tr>\n    <tr>\n      <th>5</th>\n      <td>6</td>\n      <td>SE</td>\n      <td>Sergipe</td>\n    </tr>\n    <tr>\n      <th>6</th>\n      <td>7</td>\n      <td>PE</td>\n      <td>Pernambuco</td>\n    </tr>\n    <tr>\n      <th>7</th>\n      <td>8</td>\n      <td>AL</td>\n      <td>Alagoas</td>\n    </tr>\n    <tr>\n      <th>8</th>\n      <td>9</td>\n      <td>PB</td>\n      <td>Paraíba</td>\n    </tr>\n    <tr>\n      <th>9</th>\n      <td>10</td>\n      <td>RN</td>\n      <td>Río Grande del Norte</td>\n    </tr>\n    <tr>\n      <th>10</th>\n      <td>11</td>\n      <td>CE</td>\n      <td>Ceará</td>\n    </tr>\n    <tr>\n      <th>11</th>\n      <td>12</td>\n      <td>PI</td>\n      <td>Piauí</td>\n    </tr>\n    <tr>\n      <th>12</th>\n      <td>13</td>\n      <td>MA</td>\n      <td>Maranhão</td>\n    </tr>\n    <tr>\n      <th>13</th>\n      <td>14</td>\n      <td>PA</td>\n      <td>Pará</td>\n    </tr>\n    <tr>\n      <th>14</th>\n      <td>15</td>\n      <td>AP</td>\n      <td>Amapá</td>\n    </tr>\n    <tr>\n      <th>15</th>\n      <td>16</td>\n      <td>AM</td>\n      <td>Amazonas</td>\n    </tr>\n    <tr>\n      <th>16</th>\n      <td>17</td>\n      <td>RR</td>\n      <td>Roraima</td>\n    </tr>\n    <tr>\n      <th>17</th>\n      <td>18</td>\n      <td>AC</td>\n      <td>Acre</td>\n    </tr>\n    <tr>\n      <th>18</th>\n      <td>19</td>\n      <td>DF</td>\n      <td>Distrito Federal</td>\n    </tr>\n    <tr>\n      <th>19</th>\n      <td>20</td>\n      <td>GO</td>\n      <td>Goiás</td>\n    </tr>\n    <tr>\n      <th>20</th>\n      <td>21</td>\n      <td>RO</td>\n      <td>Rondônia</td>\n    </tr>\n    <tr>\n      <th>21</th>\n      <td>22</td>\n      <td>TO</td>\n      <td>Tocantins</td>\n    </tr>\n    <tr>\n      <th>22</th>\n      <td>23</td>\n      <td>MT</td>\n      <td>Mato Grosso</td>\n    </tr>\n    <tr>\n      <th>23</th>\n      <td>24</td>\n      <td>MS</td>\n      <td>Mato Grosso del Sur</td>\n    </tr>\n    <tr>\n      <th>24</th>\n      <td>25</td>\n      <td>PR</td>\n      <td>Paraná</td>\n    </tr>\n    <tr>\n      <th>25</th>\n      <td>26</td>\n      <td>SC</td>\n      <td>Santa Catarina</td>\n    </tr>\n    <tr>\n      <th>26</th>\n      <td>27</td>\n      <td>RS</td>\n      <td>Río Grande del Sur</td>\n    </tr>\n  </tbody>\n</table>\n</div>"
     },
     "execution_count": 192,
     "metadata": {},
     "output_type": "execute_result"
    }
   ],
   "source": [
    "df_state = df_state.merge(right=estados_br_df, on='state_code')\n",
    "df_state"
   ],
   "metadata": {
    "collapsed": false,
    "pycharm": {
     "name": "#%%\n"
    }
   }
  },
  {
   "cell_type": "code",
   "execution_count": 190,
   "outputs": [
    {
     "ename": "KeyError",
     "evalue": "'state'",
     "output_type": "error",
     "traceback": [
      "\u001B[1;31m---------------------------------------------------------------------------\u001B[0m",
      "\u001B[1;31mKeyError\u001B[0m                                  Traceback (most recent call last)",
      "Input \u001B[1;32mIn [190]\u001B[0m, in \u001B[0;36m<cell line: 1>\u001B[1;34m()\u001B[0m\n\u001B[1;32m----> 1\u001B[0m df_cities \u001B[38;5;241m=\u001B[39m \u001B[43mdf_cities\u001B[49m\u001B[38;5;241;43m.\u001B[39;49m\u001B[43mmerge\u001B[49m\u001B[43m(\u001B[49m\u001B[43mright\u001B[49m\u001B[38;5;241;43m=\u001B[39;49m\u001B[43mdf_state\u001B[49m\u001B[43m,\u001B[49m\u001B[43m \u001B[49m\u001B[43mon\u001B[49m\u001B[38;5;241;43m=\u001B[39;49m\u001B[38;5;124;43m'\u001B[39;49m\u001B[38;5;124;43mstate\u001B[39;49m\u001B[38;5;124;43m'\u001B[39;49m\u001B[43m)\u001B[49m\n\u001B[0;32m      2\u001B[0m df_cities\u001B[38;5;241m.\u001B[39mdrop(columns\u001B[38;5;241m=\u001B[39m\u001B[38;5;124m'\u001B[39m\u001B[38;5;124mstate\u001B[39m\u001B[38;5;124m'\u001B[39m, inplace\u001B[38;5;241m=\u001B[39m\u001B[38;5;28;01mTrue\u001B[39;00m)\n\u001B[0;32m      3\u001B[0m df_cities\n",
      "File \u001B[1;32m~\\anaconda3\\lib\\site-packages\\pandas\\core\\frame.py:9345\u001B[0m, in \u001B[0;36mDataFrame.merge\u001B[1;34m(self, right, how, on, left_on, right_on, left_index, right_index, sort, suffixes, copy, indicator, validate)\u001B[0m\n\u001B[0;32m   9326\u001B[0m \u001B[38;5;129m@Substitution\u001B[39m(\u001B[38;5;124m\"\u001B[39m\u001B[38;5;124m\"\u001B[39m)\n\u001B[0;32m   9327\u001B[0m \u001B[38;5;129m@Appender\u001B[39m(_merge_doc, indents\u001B[38;5;241m=\u001B[39m\u001B[38;5;241m2\u001B[39m)\n\u001B[0;32m   9328\u001B[0m \u001B[38;5;28;01mdef\u001B[39;00m \u001B[38;5;21mmerge\u001B[39m(\n\u001B[1;32m   (...)\u001B[0m\n\u001B[0;32m   9341\u001B[0m     validate: \u001B[38;5;28mstr\u001B[39m \u001B[38;5;241m|\u001B[39m \u001B[38;5;28;01mNone\u001B[39;00m \u001B[38;5;241m=\u001B[39m \u001B[38;5;28;01mNone\u001B[39;00m,\n\u001B[0;32m   9342\u001B[0m ) \u001B[38;5;241m-\u001B[39m\u001B[38;5;241m>\u001B[39m DataFrame:\n\u001B[0;32m   9343\u001B[0m     \u001B[38;5;28;01mfrom\u001B[39;00m \u001B[38;5;21;01mpandas\u001B[39;00m\u001B[38;5;21;01m.\u001B[39;00m\u001B[38;5;21;01mcore\u001B[39;00m\u001B[38;5;21;01m.\u001B[39;00m\u001B[38;5;21;01mreshape\u001B[39;00m\u001B[38;5;21;01m.\u001B[39;00m\u001B[38;5;21;01mmerge\u001B[39;00m \u001B[38;5;28;01mimport\u001B[39;00m merge\n\u001B[1;32m-> 9345\u001B[0m     \u001B[38;5;28;01mreturn\u001B[39;00m \u001B[43mmerge\u001B[49m\u001B[43m(\u001B[49m\n\u001B[0;32m   9346\u001B[0m \u001B[43m        \u001B[49m\u001B[38;5;28;43mself\u001B[39;49m\u001B[43m,\u001B[49m\n\u001B[0;32m   9347\u001B[0m \u001B[43m        \u001B[49m\u001B[43mright\u001B[49m\u001B[43m,\u001B[49m\n\u001B[0;32m   9348\u001B[0m \u001B[43m        \u001B[49m\u001B[43mhow\u001B[49m\u001B[38;5;241;43m=\u001B[39;49m\u001B[43mhow\u001B[49m\u001B[43m,\u001B[49m\n\u001B[0;32m   9349\u001B[0m \u001B[43m        \u001B[49m\u001B[43mon\u001B[49m\u001B[38;5;241;43m=\u001B[39;49m\u001B[43mon\u001B[49m\u001B[43m,\u001B[49m\n\u001B[0;32m   9350\u001B[0m \u001B[43m        \u001B[49m\u001B[43mleft_on\u001B[49m\u001B[38;5;241;43m=\u001B[39;49m\u001B[43mleft_on\u001B[49m\u001B[43m,\u001B[49m\n\u001B[0;32m   9351\u001B[0m \u001B[43m        \u001B[49m\u001B[43mright_on\u001B[49m\u001B[38;5;241;43m=\u001B[39;49m\u001B[43mright_on\u001B[49m\u001B[43m,\u001B[49m\n\u001B[0;32m   9352\u001B[0m \u001B[43m        \u001B[49m\u001B[43mleft_index\u001B[49m\u001B[38;5;241;43m=\u001B[39;49m\u001B[43mleft_index\u001B[49m\u001B[43m,\u001B[49m\n\u001B[0;32m   9353\u001B[0m \u001B[43m        \u001B[49m\u001B[43mright_index\u001B[49m\u001B[38;5;241;43m=\u001B[39;49m\u001B[43mright_index\u001B[49m\u001B[43m,\u001B[49m\n\u001B[0;32m   9354\u001B[0m \u001B[43m        \u001B[49m\u001B[43msort\u001B[49m\u001B[38;5;241;43m=\u001B[39;49m\u001B[43msort\u001B[49m\u001B[43m,\u001B[49m\n\u001B[0;32m   9355\u001B[0m \u001B[43m        \u001B[49m\u001B[43msuffixes\u001B[49m\u001B[38;5;241;43m=\u001B[39;49m\u001B[43msuffixes\u001B[49m\u001B[43m,\u001B[49m\n\u001B[0;32m   9356\u001B[0m \u001B[43m        \u001B[49m\u001B[43mcopy\u001B[49m\u001B[38;5;241;43m=\u001B[39;49m\u001B[43mcopy\u001B[49m\u001B[43m,\u001B[49m\n\u001B[0;32m   9357\u001B[0m \u001B[43m        \u001B[49m\u001B[43mindicator\u001B[49m\u001B[38;5;241;43m=\u001B[39;49m\u001B[43mindicator\u001B[49m\u001B[43m,\u001B[49m\n\u001B[0;32m   9358\u001B[0m \u001B[43m        \u001B[49m\u001B[43mvalidate\u001B[49m\u001B[38;5;241;43m=\u001B[39;49m\u001B[43mvalidate\u001B[49m\u001B[43m,\u001B[49m\n\u001B[0;32m   9359\u001B[0m \u001B[43m    \u001B[49m\u001B[43m)\u001B[49m\n",
      "File \u001B[1;32m~\\anaconda3\\lib\\site-packages\\pandas\\core\\reshape\\merge.py:107\u001B[0m, in \u001B[0;36mmerge\u001B[1;34m(left, right, how, on, left_on, right_on, left_index, right_index, sort, suffixes, copy, indicator, validate)\u001B[0m\n\u001B[0;32m     90\u001B[0m \u001B[38;5;129m@Substitution\u001B[39m(\u001B[38;5;124m\"\u001B[39m\u001B[38;5;130;01m\\n\u001B[39;00m\u001B[38;5;124mleft : DataFrame or named Series\u001B[39m\u001B[38;5;124m\"\u001B[39m)\n\u001B[0;32m     91\u001B[0m \u001B[38;5;129m@Appender\u001B[39m(_merge_doc, indents\u001B[38;5;241m=\u001B[39m\u001B[38;5;241m0\u001B[39m)\n\u001B[0;32m     92\u001B[0m \u001B[38;5;28;01mdef\u001B[39;00m \u001B[38;5;21mmerge\u001B[39m(\n\u001B[1;32m   (...)\u001B[0m\n\u001B[0;32m    105\u001B[0m     validate: \u001B[38;5;28mstr\u001B[39m \u001B[38;5;241m|\u001B[39m \u001B[38;5;28;01mNone\u001B[39;00m \u001B[38;5;241m=\u001B[39m \u001B[38;5;28;01mNone\u001B[39;00m,\n\u001B[0;32m    106\u001B[0m ) \u001B[38;5;241m-\u001B[39m\u001B[38;5;241m>\u001B[39m DataFrame:\n\u001B[1;32m--> 107\u001B[0m     op \u001B[38;5;241m=\u001B[39m \u001B[43m_MergeOperation\u001B[49m\u001B[43m(\u001B[49m\n\u001B[0;32m    108\u001B[0m \u001B[43m        \u001B[49m\u001B[43mleft\u001B[49m\u001B[43m,\u001B[49m\n\u001B[0;32m    109\u001B[0m \u001B[43m        \u001B[49m\u001B[43mright\u001B[49m\u001B[43m,\u001B[49m\n\u001B[0;32m    110\u001B[0m \u001B[43m        \u001B[49m\u001B[43mhow\u001B[49m\u001B[38;5;241;43m=\u001B[39;49m\u001B[43mhow\u001B[49m\u001B[43m,\u001B[49m\n\u001B[0;32m    111\u001B[0m \u001B[43m        \u001B[49m\u001B[43mon\u001B[49m\u001B[38;5;241;43m=\u001B[39;49m\u001B[43mon\u001B[49m\u001B[43m,\u001B[49m\n\u001B[0;32m    112\u001B[0m \u001B[43m        \u001B[49m\u001B[43mleft_on\u001B[49m\u001B[38;5;241;43m=\u001B[39;49m\u001B[43mleft_on\u001B[49m\u001B[43m,\u001B[49m\n\u001B[0;32m    113\u001B[0m \u001B[43m        \u001B[49m\u001B[43mright_on\u001B[49m\u001B[38;5;241;43m=\u001B[39;49m\u001B[43mright_on\u001B[49m\u001B[43m,\u001B[49m\n\u001B[0;32m    114\u001B[0m \u001B[43m        \u001B[49m\u001B[43mleft_index\u001B[49m\u001B[38;5;241;43m=\u001B[39;49m\u001B[43mleft_index\u001B[49m\u001B[43m,\u001B[49m\n\u001B[0;32m    115\u001B[0m \u001B[43m        \u001B[49m\u001B[43mright_index\u001B[49m\u001B[38;5;241;43m=\u001B[39;49m\u001B[43mright_index\u001B[49m\u001B[43m,\u001B[49m\n\u001B[0;32m    116\u001B[0m \u001B[43m        \u001B[49m\u001B[43msort\u001B[49m\u001B[38;5;241;43m=\u001B[39;49m\u001B[43msort\u001B[49m\u001B[43m,\u001B[49m\n\u001B[0;32m    117\u001B[0m \u001B[43m        \u001B[49m\u001B[43msuffixes\u001B[49m\u001B[38;5;241;43m=\u001B[39;49m\u001B[43msuffixes\u001B[49m\u001B[43m,\u001B[49m\n\u001B[0;32m    118\u001B[0m \u001B[43m        \u001B[49m\u001B[43mcopy\u001B[49m\u001B[38;5;241;43m=\u001B[39;49m\u001B[43mcopy\u001B[49m\u001B[43m,\u001B[49m\n\u001B[0;32m    119\u001B[0m \u001B[43m        \u001B[49m\u001B[43mindicator\u001B[49m\u001B[38;5;241;43m=\u001B[39;49m\u001B[43mindicator\u001B[49m\u001B[43m,\u001B[49m\n\u001B[0;32m    120\u001B[0m \u001B[43m        \u001B[49m\u001B[43mvalidate\u001B[49m\u001B[38;5;241;43m=\u001B[39;49m\u001B[43mvalidate\u001B[49m\u001B[43m,\u001B[49m\n\u001B[0;32m    121\u001B[0m \u001B[43m    \u001B[49m\u001B[43m)\u001B[49m\n\u001B[0;32m    122\u001B[0m     \u001B[38;5;28;01mreturn\u001B[39;00m op\u001B[38;5;241m.\u001B[39mget_result()\n",
      "File \u001B[1;32m~\\anaconda3\\lib\\site-packages\\pandas\\core\\reshape\\merge.py:700\u001B[0m, in \u001B[0;36m_MergeOperation.__init__\u001B[1;34m(self, left, right, how, on, left_on, right_on, axis, left_index, right_index, sort, suffixes, copy, indicator, validate)\u001B[0m\n\u001B[0;32m    693\u001B[0m \u001B[38;5;28mself\u001B[39m\u001B[38;5;241m.\u001B[39m_cross \u001B[38;5;241m=\u001B[39m cross_col\n\u001B[0;32m    695\u001B[0m \u001B[38;5;66;03m# note this function has side effects\u001B[39;00m\n\u001B[0;32m    696\u001B[0m (\n\u001B[0;32m    697\u001B[0m     \u001B[38;5;28mself\u001B[39m\u001B[38;5;241m.\u001B[39mleft_join_keys,\n\u001B[0;32m    698\u001B[0m     \u001B[38;5;28mself\u001B[39m\u001B[38;5;241m.\u001B[39mright_join_keys,\n\u001B[0;32m    699\u001B[0m     \u001B[38;5;28mself\u001B[39m\u001B[38;5;241m.\u001B[39mjoin_names,\n\u001B[1;32m--> 700\u001B[0m ) \u001B[38;5;241m=\u001B[39m \u001B[38;5;28;43mself\u001B[39;49m\u001B[38;5;241;43m.\u001B[39;49m\u001B[43m_get_merge_keys\u001B[49m\u001B[43m(\u001B[49m\u001B[43m)\u001B[49m\n\u001B[0;32m    702\u001B[0m \u001B[38;5;66;03m# validate the merge keys dtypes. We may need to coerce\u001B[39;00m\n\u001B[0;32m    703\u001B[0m \u001B[38;5;66;03m# to avoid incompatible dtypes\u001B[39;00m\n\u001B[0;32m    704\u001B[0m \u001B[38;5;28mself\u001B[39m\u001B[38;5;241m.\u001B[39m_maybe_coerce_merge_keys()\n",
      "File \u001B[1;32m~\\anaconda3\\lib\\site-packages\\pandas\\core\\reshape\\merge.py:1097\u001B[0m, in \u001B[0;36m_MergeOperation._get_merge_keys\u001B[1;34m(self)\u001B[0m\n\u001B[0;32m   1095\u001B[0m \u001B[38;5;28;01mif\u001B[39;00m \u001B[38;5;129;01mnot\u001B[39;00m is_rkey(rk):\n\u001B[0;32m   1096\u001B[0m     \u001B[38;5;28;01mif\u001B[39;00m rk \u001B[38;5;129;01mis\u001B[39;00m \u001B[38;5;129;01mnot\u001B[39;00m \u001B[38;5;28;01mNone\u001B[39;00m:\n\u001B[1;32m-> 1097\u001B[0m         right_keys\u001B[38;5;241m.\u001B[39mappend(\u001B[43mright\u001B[49m\u001B[38;5;241;43m.\u001B[39;49m\u001B[43m_get_label_or_level_values\u001B[49m\u001B[43m(\u001B[49m\u001B[43mrk\u001B[49m\u001B[43m)\u001B[49m)\n\u001B[0;32m   1098\u001B[0m     \u001B[38;5;28;01melse\u001B[39;00m:\n\u001B[0;32m   1099\u001B[0m         \u001B[38;5;66;03m# work-around for merge_asof(right_index=True)\u001B[39;00m\n\u001B[0;32m   1100\u001B[0m         right_keys\u001B[38;5;241m.\u001B[39mappend(right\u001B[38;5;241m.\u001B[39mindex)\n",
      "File \u001B[1;32m~\\anaconda3\\lib\\site-packages\\pandas\\core\\generic.py:1840\u001B[0m, in \u001B[0;36mNDFrame._get_label_or_level_values\u001B[1;34m(self, key, axis)\u001B[0m\n\u001B[0;32m   1838\u001B[0m     values \u001B[38;5;241m=\u001B[39m \u001B[38;5;28mself\u001B[39m\u001B[38;5;241m.\u001B[39maxes[axis]\u001B[38;5;241m.\u001B[39mget_level_values(key)\u001B[38;5;241m.\u001B[39m_values\n\u001B[0;32m   1839\u001B[0m \u001B[38;5;28;01melse\u001B[39;00m:\n\u001B[1;32m-> 1840\u001B[0m     \u001B[38;5;28;01mraise\u001B[39;00m \u001B[38;5;167;01mKeyError\u001B[39;00m(key)\n\u001B[0;32m   1842\u001B[0m \u001B[38;5;66;03m# Check for duplicates\u001B[39;00m\n\u001B[0;32m   1843\u001B[0m \u001B[38;5;28;01mif\u001B[39;00m values\u001B[38;5;241m.\u001B[39mndim \u001B[38;5;241m>\u001B[39m \u001B[38;5;241m1\u001B[39m:\n",
      "\u001B[1;31mKeyError\u001B[0m: 'state'"
     ]
    }
   ],
   "source": [
    "df_cities = df_cities.merge(right=df_state, on='state')\n",
    "df_cities.drop(columns='state', inplace=True)\n",
    "df_cities"
   ],
   "metadata": {
    "collapsed": false,
    "pycharm": {
     "name": "#%%\n"
    }
   }
  },
  {
   "cell_type": "code",
   "execution_count": null,
   "outputs": [],
   "source": [
    "df_zip = df_zip.merge(right=df_cities, on='city')\n",
    "df_zip.drop(columns=['city', 'state', 'state_id'], inplace=True)\n",
    "df_zip"
   ],
   "metadata": {
    "collapsed": false,
    "pycharm": {
     "name": "#%%\n"
    }
   }
  }
 ],
 "metadata": {
  "kernelspec": {
   "display_name": "Python 3",
   "language": "python",
   "name": "python3"
  },
  "language_info": {
   "codemirror_mode": {
    "name": "ipython",
    "version": 2
   },
   "file_extension": ".py",
   "mimetype": "text/x-python",
   "name": "python",
   "nbconvert_exporter": "python",
   "pygments_lexer": "ipython2",
   "version": "2.7.6"
  }
 },
 "nbformat": 4,
 "nbformat_minor": 0
}